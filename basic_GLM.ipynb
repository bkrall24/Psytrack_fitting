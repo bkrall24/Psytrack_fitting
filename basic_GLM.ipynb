{
 "cells": [
  {
   "cell_type": "code",
   "execution_count": 1,
   "metadata": {},
   "outputs": [],
   "source": [
    "# Function to take a folder path, load the behavioral and licking data. Clean it to a nice lil pandas df\n",
    "def load_beh_data(path, animal_id):\n",
    "\n",
    "    import os \n",
    "    import pandas as pd\n",
    "    import numpy as np\n",
    "\n",
    "    file_pandas = animal_id + \"_df.csv\"\n",
    "    if os.path.isfile(file_pandas):\n",
    "        beh_df = pd.read_csv(file_pandas)\n",
    "    else:\n",
    "    \n",
    "        file_data = 'analyze_animal_'+animal_id+'.mat'\n",
    "        data_path = os.path.join(path,file_data)\n",
    "\n",
    "        beh_data = import_matlab_file(data_path)\n",
    "        beh_df, ignore = pd_from_uneven_dict(beh_data['animal'])\n",
    "        beh_df = beh_df.rename(columns={\"lick_0\": \"RH\", \"lick_1\": \"LH\", \"lick_2\": \"RM\", \"lick_3\": \"LM\", \"lick_4\": \"NG\"})\n",
    "\n",
    "        boo_cols = [\"RH\", \"LH\", \"RM\", \"LM\", \"NG\", \"LED\"]\n",
    "        beh_df[boo_cols] = beh_df[boo_cols].astype(bool)\n",
    "\n",
    "\n",
    "        # file_ttl = 'ttl_info_'+animal_id+'.mat'\n",
    "        # ttl_path = os.path.join(path, file_ttl)\n",
    "        # ttl_data = import_matlab_file(ttl_path)\n",
    "\n",
    "        # beh_df['Spout_1']= np.mean(ttl_data['trial_info']['lick'][:,750:825,0],axis = 1)\n",
    "        # beh_df['Spout_2'] = np.mean(ttl_data['trial_info']['lick'][:,750:825,1],axis = 1)\n",
    "\n",
    "\n",
    "        file_ttl2 = 'ttl_choices_'+animal_id+'.mat'\n",
    "        ttl_path2 = os.path.join(path, file_ttl2)\n",
    "        ttl_data2 = import_matlab_file(ttl_path2)\n",
    "        c = ttl_data2['trial_info']['choice'][:,:,750:1750]\n",
    "        beh_df['latency'] = determine_latency(beh_df['rxnTime'], c)\n",
    "\n",
    "        beh_df.to_csv(file_pandas, index= False)\n",
    "        \n",
    "\n",
    "    return beh_df"
   ]
  },
  {
   "cell_type": "code",
   "execution_count": 2,
   "metadata": {},
   "outputs": [],
   "source": [
    "# Function that infers the latency of a response from the lick rasters\n",
    "def determine_latency(rxn, c):\n",
    "    import numpy as np\n",
    "    rx = []\n",
    "    for a in range(c.shape[0]):\n",
    "        r = (np.argwhere(c[a,:,:]== 1))\n",
    "\n",
    "        if r.size == 0 and rxn[a] > 0:\n",
    "            rx.append(rxn[a]);\n",
    "        elif r.size == 0:\n",
    "            rx.append(np.nan)\n",
    "            #ch.append(np.nan)\n",
    "        else:\n",
    "            #ch.append(r[0][0])\n",
    "            rx.append(r[0][1])\n",
    "\n",
    "    return rx"
   ]
  },
  {
   "cell_type": "code",
   "execution_count": 3,
   "metadata": {},
   "outputs": [],
   "source": [
    "def import_matlab_file(file):\n",
    "    from scipy.io import loadmat\n",
    "    \n",
    "    mat_data = loadmat(file, struct_as_record = False, squeeze_me = True, mat_dtype = True, chars_as_strings = True, simplify_cells = True)\n",
    "    mat_data =  {k:v for k,v in mat_data.items() if '__' not in k};\n",
    "    \n",
    "    return mat_data"
   ]
  },
  {
   "cell_type": "code",
   "execution_count": 4,
   "metadata": {},
   "outputs": [],
   "source": [
    "# Reorganization of dictionaries into dataframes. Used to clean up my matlab structs into df with rows corresponding to trials\n",
    "def pd_from_uneven_dict(d):\n",
    "\n",
    "    import numpy as np\n",
    "    import pandas as pd\n",
    "    \n",
    "    shapes = [v.shape for v in d.values() if len(v.shape) == 1]\n",
    "    trials = max(shapes)[0]\n",
    "\n",
    "    single_dim = {k:v for k,v in d.items() if (len(v.shape) == 1)  & (trials == v.shape[0])};\n",
    "    df = pd.DataFrame(single_dim);\n",
    "\n",
    "    remainder = {};\n",
    "\n",
    "    for k,v in d.items():\n",
    "        \n",
    "        if len(v.shape)  ==  3:\n",
    "            split_data = np.dsplit(v, v.shape[2]);\n",
    "            for ind, dim in enumerate(split_data):\n",
    "                col_name = k + \"_\"+f'{ind}';\n",
    "                if dim.shape[0] == trials:\n",
    "                    df[col_name] = list(np.squeeze(dim))\n",
    "                else:\n",
    "                    df[col_name] = list(np.squeeze(dim.transpose))\n",
    "        elif len(v.shape) == 2:\n",
    "            if v.shape[1] == trials:\n",
    "                v = v.transpose()\n",
    "\n",
    "            if v.shape[1] < 10:\n",
    "                for i, j in enumerate(v.transpose()):\n",
    "                        col_name = k + \"_\" + f'{i}'\n",
    "                        \n",
    "                        df[col_name] = j\n",
    "            else:\n",
    "                col_name = k\n",
    "                df[col_name] = list(np.squeeze(v))\n",
    "                \n",
    "        elif (len(v.shape) == 1)  & (trials != v.shape[0]):\n",
    "            remainder[k] = v;\n",
    "\n",
    "        \n",
    "            \n",
    "    return df, remainder"
   ]
  },
  {
   "cell_type": "code",
   "execution_count": 5,
   "metadata": {},
   "outputs": [],
   "source": [
    "# function to take beh_df and processes the data into the form for modeling. Keep as a dataframe to \n",
    "# allow for easier subsampling of trials. Next steps: incorporate a function that allows for easy sampling\n",
    "# of trial history\n",
    "def clean_beh_data(b):\n",
    "    import numpy as np\n",
    "    import pandas as pd\n",
    "\n",
    "    \n",
    "    b2 = pd.DataFrame()\n",
    "    ns = np.array(np.append(1, np.diff(b['sessionNum'])), dtype = bool)\n",
    "\n",
    "    b2['Rightward'] = (b['RH'] | b['LM']).astype(int)\n",
    "    pr = np.concatenate(([0], b2['Rightward'][:-1].values));\n",
    "    pr[ns] = 0;\n",
    "    b2['Previous_rightward'] = pr;\n",
    "\n",
    "    b2['Correct'] = (b['RH'] | b['LH']).astype(int)\n",
    "    pc = np.concatenate(([0], b2['Correct'][:-1].values))  \n",
    "    pc[ns] = 0;\n",
    "    b2['Previous_correct'] = pc;\n",
    "\n",
    "    b2['Stimulus'] =np.log2(b['stimulus']/8)/2\n",
    "    #b2['Stimulus'] =(1/b['stimulus'])\n",
    "    b2['LED'] = b['LED'].astype(int);\n",
    "    b2['Target'] = b['target'].astype(int);\n",
    "    b2['Session'] = b['sessionNum'];\n",
    "\n",
    "   \n",
    "    b2['Latency'] = np.log2((1/(b['latency'])*1000)/8)/2;\n",
    "    #b2['New_session']= ns;\n",
    "   \n",
    "    go = ((b['RH'] | b['LM'] | b['RM'] | b['LH']).values) & ((b['latency'] > 0).T).values\n",
    "    b2 = b2.iloc[go,:]\n",
    "    \n",
    "    return b2"
   ]
  },
  {
   "cell_type": "code",
   "execution_count": 6,
   "metadata": {},
   "outputs": [],
   "source": [
    "def expand_history(d, back):\n",
    "    import numpy as np\n",
    "    d = np.expand_dims(d, axis = 1)\n",
    "\n",
    "    for _ in range(back):\n",
    "        add = np.r_[0, d[:-1, -1]]\n",
    "        d = np.c_[d, add]\n",
    "\n",
    "    return d\n"
   ]
  },
  {
   "cell_type": "code",
   "execution_count": 162,
   "metadata": {},
   "outputs": [
    {
     "name": "stderr",
     "output_type": "stream",
     "text": [
      "c:\\ProgramData\\Anaconda3\\lib\\site-packages\\pandas\\core\\series.py:679: RuntimeWarning: divide by zero encountered in log2\n",
      "  result = getattr(ufunc, method)(*inputs, **kwargs)\n"
     ]
    },
    {
     "data": {
      "text/html": [
       "<div>\n",
       "<style scoped>\n",
       "    .dataframe tbody tr th:only-of-type {\n",
       "        vertical-align: middle;\n",
       "    }\n",
       "\n",
       "    .dataframe tbody tr th {\n",
       "        vertical-align: top;\n",
       "    }\n",
       "\n",
       "    .dataframe thead th {\n",
       "        text-align: right;\n",
       "    }\n",
       "</style>\n",
       "<table border=\"1\" class=\"dataframe\">\n",
       "  <thead>\n",
       "    <tr style=\"text-align: right;\">\n",
       "      <th></th>\n",
       "      <th>Rightward</th>\n",
       "      <th>Previous_rightward</th>\n",
       "      <th>Correct</th>\n",
       "      <th>Previous_correct</th>\n",
       "      <th>Stimulus</th>\n",
       "      <th>LED</th>\n",
       "      <th>Target</th>\n",
       "      <th>Session</th>\n",
       "      <th>Latency</th>\n",
       "    </tr>\n",
       "  </thead>\n",
       "  <tbody>\n",
       "    <tr>\n",
       "      <th>97</th>\n",
       "      <td>0</td>\n",
       "      <td>0</td>\n",
       "      <td>1</td>\n",
       "      <td>0</td>\n",
       "      <td>-1.0</td>\n",
       "      <td>0</td>\n",
       "      <td>0</td>\n",
       "      <td>1.0</td>\n",
       "      <td>-0.655170</td>\n",
       "    </tr>\n",
       "    <tr>\n",
       "      <th>98</th>\n",
       "      <td>0</td>\n",
       "      <td>0</td>\n",
       "      <td>1</td>\n",
       "      <td>1</td>\n",
       "      <td>1.0</td>\n",
       "      <td>0</td>\n",
       "      <td>0</td>\n",
       "      <td>1.0</td>\n",
       "      <td>-0.604571</td>\n",
       "    </tr>\n",
       "    <tr>\n",
       "      <th>99</th>\n",
       "      <td>0</td>\n",
       "      <td>0</td>\n",
       "      <td>1</td>\n",
       "      <td>1</td>\n",
       "      <td>-1.0</td>\n",
       "      <td>0</td>\n",
       "      <td>0</td>\n",
       "      <td>1.0</td>\n",
       "      <td>-1.255987</td>\n",
       "    </tr>\n",
       "    <tr>\n",
       "      <th>102</th>\n",
       "      <td>0</td>\n",
       "      <td>0</td>\n",
       "      <td>1</td>\n",
       "      <td>0</td>\n",
       "      <td>1.0</td>\n",
       "      <td>0</td>\n",
       "      <td>0</td>\n",
       "      <td>1.0</td>\n",
       "      <td>-0.591981</td>\n",
       "    </tr>\n",
       "    <tr>\n",
       "      <th>103</th>\n",
       "      <td>0</td>\n",
       "      <td>0</td>\n",
       "      <td>1</td>\n",
       "      <td>1</td>\n",
       "      <td>-1.0</td>\n",
       "      <td>0</td>\n",
       "      <td>0</td>\n",
       "      <td>1.0</td>\n",
       "      <td>-1.216480</td>\n",
       "    </tr>\n",
       "  </tbody>\n",
       "</table>\n",
       "</div>"
      ],
      "text/plain": [
       "     Rightward  Previous_rightward  Correct  Previous_correct  Stimulus  LED  \\\n",
       "97           0                   0        1                 0      -1.0    0   \n",
       "98           0                   0        1                 1       1.0    0   \n",
       "99           0                   0        1                 1      -1.0    0   \n",
       "102          0                   0        1                 0       1.0    0   \n",
       "103          0                   0        1                 1      -1.0    0   \n",
       "\n",
       "     Target  Session   Latency  \n",
       "97        0      1.0 -0.655170  \n",
       "98        0      1.0 -0.604571  \n",
       "99        0      1.0 -1.255987  \n",
       "102       0      1.0 -0.591981  \n",
       "103       0      1.0 -1.216480  "
      ]
     },
     "execution_count": 162,
     "metadata": {},
     "output_type": "execute_result"
    }
   ],
   "source": [
    "\n",
    "import os\n",
    "#path = os.getcwd();\n",
    "\n",
    "animal = 'opto_011'\n",
    "\n",
    "path = r\"C:\\Users\\natet\\Desktop\\Experimental_Data\\CT\\opto_011\"\n",
    "import numpy as np\n",
    "\n",
    "b = load_beh_data(path, animal)\n",
    "b2 = clean_beh_data(b)\n",
    "b2.head()"
   ]
  },
  {
   "cell_type": "code",
   "execution_count": 387,
   "metadata": {},
   "outputs": [
    {
     "data": {
      "text/plain": [
       "14"
      ]
     },
     "execution_count": 387,
     "metadata": {},
     "output_type": "execute_result"
    }
   ],
   "source": [
    "\n",
    "import numpy as np\n",
    "rw = np.array(b2['Rightward'])\n",
    "np.sum(b2['Target'][b2['Stimulus'] > 0])\n",
    "\n",
    "\n",
    "#b2.head()"
   ]
  },
  {
   "attachments": {},
   "cell_type": "markdown",
   "metadata": {},
   "source": [
    "To do list:\n",
    "- decide on data input i.e. what stages of training to run analysis on\n",
    "- write code to iteratively fit each animal by walking through the directories\n",
    "- EVALUATE THE FITS - ensure the regression is actually fitting the data \n",
    "\n",
    "Tasks\n",
    "- function to generate the inputs to the model\n",
    "- function to split the data into groups of interest (i.e. LED, no LED, 8 Hz)\n",
    "- function to run the model, generate score, return coefficients\n",
    "- second function to run leave on out with each parameter with BIC to determine which weight is most important for the fit\n",
    "- function to "
   ]
  },
  {
   "cell_type": "code",
   "execution_count": 307,
   "metadata": {},
   "outputs": [],
   "source": [
    "def generate_logistics_inputs(b2):\n",
    "    import numpy as np\n",
    "\n",
    "  \n",
    "    previous_choice = expand_history(np.array(b2['Previous_rightward']), 3)\n",
    "    previous_reward = expand_history(np.array(b2['Previous_correct']),1)\n",
    "    \n",
    "    stimulus_direction = np.zeros(b2['Stimulus'].shape);\n",
    "    stimulus_direction[b2['Stimulus'] < 0] = -1;\n",
    "    stimulus_direction[b2['Stimulus'] > 0] = 1;\n",
    "    \n",
    "    stimulus_magnitude = np.abs(b2['Stimulus'])\n",
    "    \n",
    "    #previous_stimulus = expand_history(np.array(b2['Stimulus']),2)\n",
    "    previous_stimulus = expand_history(stimulus_direction,1)\n",
    "    latency = np.array(b2['Latency'])\n",
    "\n",
    "    \n",
    "    # X = np.c_[np.ones((latency.shape[0], 1)), previous_stimulus, previous_choice, previous_reward, latency]\n",
    "    #X = np.c_[np.ones((latency.shape[0], 1)), np.array(b2['Stimulus']), latency, np.array(b2['Previous_correct']), previous_choice]\n",
    "    #X = np.c_[np.ones((latency.shape[0], 1)), latency, np.array(b2['Previous_correct']), previous_choice]\n",
    "    X = np.c_[np.ones((latency.shape[0], 1)),  previous_stimulus[:,1:],  np.array(b2['Previous_correct']), np.array(b2['Previous_rightward'])]\n",
    "    y = np.array(b2['Rightward'])\n",
    "    \n",
    "    select = np.array(b2)\n",
    "    \n",
    "    #labels = ['Bias', 'Stimulus', '1 Stim', '2 Stim', '1 Choice', '2 Choice', '1 Reward', '2 Reward', 'latency']\n",
    "    #labels = ['Bias', 'Stimulus', 'Latency', 'Previous Reward', 'Previous Choice 1' ,'Previous Choice 2','Previous Choice 3','Previous Choice 4' ]\n",
    "    #labels = ['Bias',  'Latency', 'Previous Reward', 'Previous Choice 1' ,'Previous Choice 2','Previous Choice 3','Previous Choice 4' ]\n",
    "    labels = ['Bias',  'Previous Direction',  'Previous Reward', 'Previous Choice 1'  ]\n",
    "\n",
    "    return X, y, labels"
   ]
  },
  {
   "cell_type": "code",
   "execution_count": 298,
   "metadata": {},
   "outputs": [
    {
     "data": {
      "text/html": [
       "<div>\n",
       "<style scoped>\n",
       "    .dataframe tbody tr th:only-of-type {\n",
       "        vertical-align: middle;\n",
       "    }\n",
       "\n",
       "    .dataframe tbody tr th {\n",
       "        vertical-align: top;\n",
       "    }\n",
       "\n",
       "    .dataframe thead th {\n",
       "        text-align: right;\n",
       "    }\n",
       "</style>\n",
       "<table border=\"1\" class=\"dataframe\">\n",
       "  <thead>\n",
       "    <tr style=\"text-align: right;\">\n",
       "      <th></th>\n",
       "      <th>Rightward</th>\n",
       "      <th>Previous_rightward</th>\n",
       "      <th>Correct</th>\n",
       "      <th>Previous_correct</th>\n",
       "      <th>Stimulus</th>\n",
       "      <th>LED</th>\n",
       "      <th>Target</th>\n",
       "      <th>Session</th>\n",
       "      <th>Latency</th>\n",
       "    </tr>\n",
       "  </thead>\n",
       "  <tbody>\n",
       "    <tr>\n",
       "      <th>97</th>\n",
       "      <td>0</td>\n",
       "      <td>0</td>\n",
       "      <td>1</td>\n",
       "      <td>0</td>\n",
       "      <td>-1.0</td>\n",
       "      <td>0</td>\n",
       "      <td>0</td>\n",
       "      <td>1.0</td>\n",
       "      <td>-0.655170</td>\n",
       "    </tr>\n",
       "    <tr>\n",
       "      <th>98</th>\n",
       "      <td>0</td>\n",
       "      <td>0</td>\n",
       "      <td>1</td>\n",
       "      <td>1</td>\n",
       "      <td>1.0</td>\n",
       "      <td>0</td>\n",
       "      <td>0</td>\n",
       "      <td>1.0</td>\n",
       "      <td>-0.604571</td>\n",
       "    </tr>\n",
       "    <tr>\n",
       "      <th>99</th>\n",
       "      <td>0</td>\n",
       "      <td>0</td>\n",
       "      <td>1</td>\n",
       "      <td>1</td>\n",
       "      <td>-1.0</td>\n",
       "      <td>0</td>\n",
       "      <td>0</td>\n",
       "      <td>1.0</td>\n",
       "      <td>-1.255987</td>\n",
       "    </tr>\n",
       "    <tr>\n",
       "      <th>102</th>\n",
       "      <td>0</td>\n",
       "      <td>0</td>\n",
       "      <td>1</td>\n",
       "      <td>0</td>\n",
       "      <td>1.0</td>\n",
       "      <td>0</td>\n",
       "      <td>0</td>\n",
       "      <td>1.0</td>\n",
       "      <td>-0.591981</td>\n",
       "    </tr>\n",
       "    <tr>\n",
       "      <th>103</th>\n",
       "      <td>0</td>\n",
       "      <td>0</td>\n",
       "      <td>1</td>\n",
       "      <td>1</td>\n",
       "      <td>-1.0</td>\n",
       "      <td>0</td>\n",
       "      <td>0</td>\n",
       "      <td>1.0</td>\n",
       "      <td>-1.216480</td>\n",
       "    </tr>\n",
       "  </tbody>\n",
       "</table>\n",
       "</div>"
      ],
      "text/plain": [
       "     Rightward  Previous_rightward  Correct  Previous_correct  Stimulus  LED  \\\n",
       "97           0                   0        1                 0      -1.0    0   \n",
       "98           0                   0        1                 1       1.0    0   \n",
       "99           0                   0        1                 1      -1.0    0   \n",
       "102          0                   0        1                 0       1.0    0   \n",
       "103          0                   0        1                 1      -1.0    0   \n",
       "\n",
       "     Target  Session   Latency  \n",
       "97        0      1.0 -0.655170  \n",
       "98        0      1.0 -0.604571  \n",
       "99        0      1.0 -1.255987  \n",
       "102       0      1.0 -0.591981  \n",
       "103       0      1.0 -1.216480  "
      ]
     },
     "execution_count": 298,
     "metadata": {},
     "output_type": "execute_result"
    }
   ],
   "source": [
    "labels = ['Bias', 'Stimulus Magnitude', 'Stimulus Direction', 'Previous Direction', 'Latency', 'Previous Reward', 'Previous Choice 1' ,'Previous Choice 2','Previous Choice 3','Previous Choice 4' ]\n",
    "b2.head()"
   ]
  },
  {
   "cell_type": "code",
   "execution_count": 299,
   "metadata": {},
   "outputs": [],
   "source": [
    "def split_data_inputs(X,y, b2):\n",
    "    \n",
    "    l = b2['LED'].astype(bool)\n",
    "    s = b2['Stimulus'] == 0;\n",
    "    rX = [X[l ,:] , X[s ,:]]\n",
    "   \n",
    "    ry = [y[l] , y[s]]\n",
    "    \n",
    "    \n",
    "    return rX, ry\n",
    "    \n",
    "    \n",
    "    "
   ]
  },
  {
   "cell_type": "code",
   "execution_count": 300,
   "metadata": {},
   "outputs": [],
   "source": [
    "def fit_logistic(X,y):\n",
    "    #from sklearn.model_selection import StratifiedKFold\n",
    "    from sklearn.model_selection import KFold\n",
    "    from sklearn.linear_model import LogisticRegression\n",
    "    #rskf = StratifiedKFold(n_splits=5)\n",
    "    rskf = KFold(n_splits=5, shuffle = True, random_state=50)\n",
    "    #rskf.get_n_splits(X, y)\n",
    "\n",
    "    score = []\n",
    "    coef = []\n",
    "    for train_index, test_index in rskf.split(X,y):\n",
    "        X_train, X_test = X[train_index,:], X[test_index,:]\n",
    "        y_train, y_test = y[train_index], y[test_index]\n",
    "        clf = LogisticRegression().fit(X_train, y_train)\n",
    "        \n",
    "     \n",
    "        \n",
    "        score.append(clf.score(X_test,y_test))\n",
    "        coef.append(clf.coef_)\n",
    "        \n",
    "    return np.array(score), np.squeeze(np.array(coef))\n",
    "    "
   ]
  },
  {
   "cell_type": "code",
   "execution_count": 301,
   "metadata": {},
   "outputs": [],
   "source": [
    "def full_logistic_preprocess(path, animal):\n",
    "\n",
    "    import os \n",
    "    b = load_beh_data(path, animal)\n",
    "\n",
    "    filep = os.path.join(path,'analyze_training_'+animal+'.mat')\n",
    "    m2 = import_matlab_file(filep)\n",
    "\n",
    "    expert = m2['training']['days_expert']\n",
    "    proficient = m2['training']['days_proficient']\n",
    "    opto = m2['training']['days_opto']\n",
    "    b = b[(b['sessionNum'] >= proficient+5) & (b['sessionNum'] < proficient +10) ]#& (b['sessionNum'] > proficient) ]\n",
    "\n",
    "    b2 = clean_beh_data(b)\n",
    "    high_side, counts = np.unique(b2['Target'][b2['Stimulus'] > 0], return_counts = True);\n",
    "    \n",
    "\n",
    "    \n",
    "    if high_side[np.argmax(counts)] == 0:\n",
    "        b2['Rightward'] = (~(b2['Rightward'].astype(bool))).astype(int)\n",
    "        b2['Previous_rightward'] = (~(b2['Previous_rightward'].astype(bool))).astype(int)\n",
    "\n",
    "    X,y, labels = generate_logistics_inputs(b2)\n",
    "    \n",
    "    \n",
    "        \n",
    "    rX, ry = split_data_inputs(X,y,b2)\n",
    "    \n",
    "    \n",
    "    \n",
    "    \n",
    "    scores,coefs = zip(*[fit_logistic(a,b) for a,b in zip(rX,ry)])\n",
    "    \n",
    "    \n",
    "    \n",
    "    return np.vstack(scores), np.dstack(coefs), labels\n",
    "\n",
    "\n"
   ]
  },
  {
   "cell_type": "code",
   "execution_count": 302,
   "metadata": {},
   "outputs": [
    {
     "data": {
      "text/plain": [
       "1"
      ]
     },
     "execution_count": 302,
     "metadata": {},
     "output_type": "execute_result"
    }
   ],
   "source": [
    "high_side, counts = np.unique(b2['Target'][b2['Stimulus'] > 0], return_counts = True);\n",
    "np.argmax(counts)\n"
   ]
  },
  {
   "cell_type": "code",
   "execution_count": 308,
   "metadata": {},
   "outputs": [
    {
     "data": {
      "image/png": "[encoded data removed]",
      "text/plain": [
       "<Figure size 936x360 with 2 Axes>"
      ]
     },
     "metadata": {
      "needs_background": "light"
     },
     "output_type": "display_data"
    },
    {
     "data": {
      "image/png": "[encoded data removed]",
      "text/plain": [
       "<Figure size 936x360 with 2 Axes>"
      ]
     },
     "metadata": {
      "needs_background": "light"
     },
     "output_type": "display_data"
    },
    {
     "data": {
      "image/png": "[encoded data removed]",
      "text/plain": [
       "<Figure size 936x360 with 2 Axes>"
      ]
     },
     "metadata": {
      "needs_background": "light"
     },
     "output_type": "display_data"
    },
    {
     "data": {
      "image/png": "[encoded data removed]",
      "text/plain": [
       "<Figure size 936x360 with 2 Axes>"
      ]
     },
     "metadata": {
      "needs_background": "light"
     },
     "output_type": "display_data"
    },
    {
     "data": {
      "image/png": "[encoded data removed]",
      "text/plain": [
       "<Figure size 936x360 with 2 Axes>"
      ]
     },
     "metadata": {
      "needs_background": "light"
     },
     "output_type": "display_data"
    }
   ],
   "source": [
    "path = r\"C:\\Users\\natet\\Desktop\\Experimental_Data\"\n",
    "\n",
    "import os\n",
    "import numpy as np\n",
    "experimental_groups = os.listdir(path)\n",
    "\n",
    "for g in experimental_groups:\n",
    "    \n",
    "    g_dir = os.path.join(path,g)\n",
    "    animals = os.listdir(g_dir)\n",
    "    \n",
    "    group_scores = []\n",
    "    group_coefs = []\n",
    "    \n",
    "    for a in animals:\n",
    "        a_dir = os.path.join(path,g,a)\n",
    "        \n",
    "        scores, coefs, labels = full_logistic_preprocess(a_dir, a)\n",
    "        #plot_single_logR(scores, coefs, a)\n",
    "        group_coefs.append(np.mean(coefs, axis = 0))\n",
    "        group_scores.append(np.mean(scores, axis = 1))\n",
    "    \n",
    "    gs = np.array(group_scores)\n",
    "    gc = np.array(group_coefs)\n",
    "    plot_single_logR(gs.T, abs(gc), g)\n",
    "    \n",
    "    \n",
    "\n",
    "                "
   ]
  },
  {
   "cell_type": "code",
   "execution_count": 305,
   "metadata": {},
   "outputs": [
    {
     "name": "stdout",
     "output_type": "stream",
     "text": [
      "C:\\Users\\natet\\Desktop\\Experimental_Data\\CAMKII\n",
      "['opto_200', 'opto_209', 'opto_96', 'opto_97']\n",
      "C:\\Users\\natet\\Desktop\\Experimental_Data\\Control\n",
      "['c_129', 'c_136', 'c_137']\n",
      "C:\\Users\\natet\\Desktop\\Experimental_Data\\CT\n",
      "['opto_011', 'opto_016', 'opto_207', 'opto_208']\n",
      "C:\\Users\\natet\\Desktop\\Experimental_Data\\ET\n",
      "['opto_211', 'opto_212', 'opto_69', 'opto_70']\n",
      "C:\\Users\\natet\\Desktop\\Experimental_Data\\IT\n",
      "['opto_203', 'opto_204', 'opto_205', 'opto_206']\n"
     ]
    }
   ],
   "source": [
    "experimental_groups = os.listdir(path)\n",
    "\n",
    "for g in experimental_groups:\n",
    "    g_dir = os.path.join(path,g)\n",
    "    print(g_dir)\n",
    "    print(os.listdir(os.path.join(path,g)))\n",
    "    \n"
   ]
  },
  {
   "cell_type": "code",
   "execution_count": 209,
   "metadata": {},
   "outputs": [
    {
     "data": {
      "text/plain": [
       "10"
      ]
     },
     "execution_count": 209,
     "metadata": {},
     "output_type": "execute_result"
    }
   ],
   "source": [
    "len(labels)"
   ]
  },
  {
   "cell_type": "code",
   "execution_count": 347,
   "metadata": {},
   "outputs": [
    {
     "ename": "AttributeError",
     "evalue": "'numpy.ndarray' object has no attribute 'get'",
     "output_type": "error",
     "traceback": [
      "\u001b[1;31m---------------------------------------------------------------------------\u001b[0m",
      "\u001b[1;31mAttributeError\u001b[0m                            Traceback (most recent call last)",
      "\u001b[1;32m<ipython-input-347-f1b0a5489d35>\u001b[0m in \u001b[0;36m<module>\u001b[1;34m\u001b[0m\n\u001b[0;32m      1\u001b[0m \u001b[1;32mimport\u001b[0m \u001b[0mseaborn\u001b[0m \u001b[1;32mas\u001b[0m \u001b[0msns\u001b[0m\u001b[1;33m\u001b[0m\u001b[1;33m\u001b[0m\u001b[0m\n\u001b[0;32m      2\u001b[0m \u001b[1;33m\u001b[0m\u001b[0m\n\u001b[1;32m----> 3\u001b[1;33m g = sns.catplot(\n\u001b[0m\u001b[0;32m      4\u001b[0m     \u001b[0mdata\u001b[0m\u001b[1;33m=\u001b[0m\u001b[0mcoefs\u001b[0m\u001b[1;33m,\u001b[0m \u001b[0mkind\u001b[0m\u001b[1;33m=\u001b[0m\u001b[1;34m\"bar\"\u001b[0m\u001b[1;33m,\u001b[0m\u001b[1;33m\u001b[0m\u001b[1;33m\u001b[0m\u001b[0m\n\u001b[0;32m      5\u001b[0m     \u001b[0mx\u001b[0m\u001b[1;33m=\u001b[0m\u001b[1;34m\"species\"\u001b[0m\u001b[1;33m,\u001b[0m \u001b[0my\u001b[0m\u001b[1;33m=\u001b[0m\u001b[1;34m\"body_mass_g\"\u001b[0m\u001b[1;33m,\u001b[0m \u001b[0mhue\u001b[0m\u001b[1;33m=\u001b[0m\u001b[1;34m\"sex\"\u001b[0m\u001b[1;33m,\u001b[0m\u001b[1;33m\u001b[0m\u001b[1;33m\u001b[0m\u001b[0m\n",
      "\u001b[1;32mc:\\ProgramData\\Anaconda3\\lib\\site-packages\\seaborn\\categorical.py\u001b[0m in \u001b[0;36mcatplot\u001b[1;34m(x, y, hue, data, row, col, col_wrap, estimator, ci, n_boot, units, seed, order, hue_order, row_order, col_order, kind, height, aspect, orient, color, palette, legend, legend_out, sharex, sharey, margin_titles, facet_kws, **kwargs)\u001b[0m\n\u001b[0;32m   3721\u001b[0m     \u001b[1;31m# facets to ensure representation of all data in the final plot\u001b[0m\u001b[1;33m\u001b[0m\u001b[1;33m\u001b[0m\u001b[1;33m\u001b[0m\u001b[0m\n\u001b[0;32m   3722\u001b[0m     \u001b[0mp\u001b[0m \u001b[1;33m=\u001b[0m \u001b[0m_CategoricalPlotter\u001b[0m\u001b[1;33m(\u001b[0m\u001b[1;33m)\u001b[0m\u001b[1;33m\u001b[0m\u001b[1;33m\u001b[0m\u001b[0m\n\u001b[1;32m-> 3723\u001b[1;33m     \u001b[0mp\u001b[0m\u001b[1;33m.\u001b[0m\u001b[0mestablish_variables\u001b[0m\u001b[1;33m(\u001b[0m\u001b[0mx_\u001b[0m\u001b[1;33m,\u001b[0m \u001b[0my_\u001b[0m\u001b[1;33m,\u001b[0m \u001b[0mhue\u001b[0m\u001b[1;33m,\u001b[0m \u001b[0mdata\u001b[0m\u001b[1;33m,\u001b[0m \u001b[0morient\u001b[0m\u001b[1;33m,\u001b[0m \u001b[0morder\u001b[0m\u001b[1;33m,\u001b[0m \u001b[0mhue_order\u001b[0m\u001b[1;33m)\u001b[0m\u001b[1;33m\u001b[0m\u001b[1;33m\u001b[0m\u001b[0m\n\u001b[0m\u001b[0;32m   3724\u001b[0m     \u001b[0morder\u001b[0m \u001b[1;33m=\u001b[0m \u001b[0mp\u001b[0m\u001b[1;33m.\u001b[0m\u001b[0mgroup_names\u001b[0m\u001b[1;33m\u001b[0m\u001b[1;33m\u001b[0m\u001b[0m\n\u001b[0;32m   3725\u001b[0m     \u001b[0mhue_order\u001b[0m \u001b[1;33m=\u001b[0m \u001b[0mp\u001b[0m\u001b[1;33m.\u001b[0m\u001b[0mhue_names\u001b[0m\u001b[1;33m\u001b[0m\u001b[1;33m\u001b[0m\u001b[0m\n",
      "\u001b[1;32mc:\\ProgramData\\Anaconda3\\lib\\site-packages\\seaborn\\categorical.py\u001b[0m in \u001b[0;36mestablish_variables\u001b[1;34m(self, x, y, hue, data, orient, order, hue_order, units)\u001b[0m\n\u001b[0;32m    141\u001b[0m             \u001b[1;31m# See if we need to get variables from `data`\u001b[0m\u001b[1;33m\u001b[0m\u001b[1;33m\u001b[0m\u001b[1;33m\u001b[0m\u001b[0m\n\u001b[0;32m    142\u001b[0m             \u001b[1;32mif\u001b[0m \u001b[0mdata\u001b[0m \u001b[1;32mis\u001b[0m \u001b[1;32mnot\u001b[0m \u001b[1;32mNone\u001b[0m\u001b[1;33m:\u001b[0m\u001b[1;33m\u001b[0m\u001b[1;33m\u001b[0m\u001b[0m\n\u001b[1;32m--> 143\u001b[1;33m                 \u001b[0mx\u001b[0m \u001b[1;33m=\u001b[0m \u001b[0mdata\u001b[0m\u001b[1;33m.\u001b[0m\u001b[0mget\u001b[0m\u001b[1;33m(\u001b[0m\u001b[0mx\u001b[0m\u001b[1;33m,\u001b[0m \u001b[0mx\u001b[0m\u001b[1;33m)\u001b[0m\u001b[1;33m\u001b[0m\u001b[1;33m\u001b[0m\u001b[0m\n\u001b[0m\u001b[0;32m    144\u001b[0m                 \u001b[0my\u001b[0m \u001b[1;33m=\u001b[0m \u001b[0mdata\u001b[0m\u001b[1;33m.\u001b[0m\u001b[0mget\u001b[0m\u001b[1;33m(\u001b[0m\u001b[0my\u001b[0m\u001b[1;33m,\u001b[0m \u001b[0my\u001b[0m\u001b[1;33m)\u001b[0m\u001b[1;33m\u001b[0m\u001b[1;33m\u001b[0m\u001b[0m\n\u001b[0;32m    145\u001b[0m                 \u001b[0mhue\u001b[0m \u001b[1;33m=\u001b[0m \u001b[0mdata\u001b[0m\u001b[1;33m.\u001b[0m\u001b[0mget\u001b[0m\u001b[1;33m(\u001b[0m\u001b[0mhue\u001b[0m\u001b[1;33m,\u001b[0m \u001b[0mhue\u001b[0m\u001b[1;33m)\u001b[0m\u001b[1;33m\u001b[0m\u001b[1;33m\u001b[0m\u001b[0m\n",
      "\u001b[1;31mAttributeError\u001b[0m: 'numpy.ndarray' object has no attribute 'get'"
     ]
    }
   ],
   "source": [
    "import seaborn as sns\n",
    "\n",
    "g = sns.catplot(\n",
    "    data= coefs, kind=\"bar\",\n",
    "    x=\"species\", y=\"body_mass_g\", hue=\"sex\",\n",
    "    errorbar=\"sd\", palette=\"dark\", alpha=.6, height=6\n",
    ")\n",
    "g.despine(left=True)\n",
    "g.set_axis_labels(\"\", \"Body mass (g)\")\n",
    "g.legend.set_title(\"\")"
   ]
  },
  {
   "cell_type": "code",
   "execution_count": 142,
   "metadata": {},
   "outputs": [],
   "source": [
    "\n",
    "def plot_single_logR(scores, coefs, a):\n",
    "    import matplotlib.pyplot as plt\n",
    "    import matplotlib.gridspec as gridspec\n",
    "    %matplotlib inline\n",
    "\n",
    "    fig = plt.figure(constrained_layout=True, figsize=(13,5))\n",
    "    spec = gridspec.GridSpec(ncols=4, nrows=1, figure=fig)\n",
    "    \n",
    "\n",
    "    ax1 = fig.add_subplot(spec[0, 0])\n",
    "    ax2 = fig.add_subplot(spec[0, 1:3])\n",
    "\n",
    "\n",
    "    ax1.bar([1,2],np.mean(scores, axis = 1))\n",
    "\n",
    "    ax1.errorbar([1,2],np.mean(scores, axis = 1), np.std(scores, axis = 1), ls = '')\n",
    "    ax1.set_title('Scores')\n",
    "\n",
    "    ax1.set_xticks([1,2])\n",
    "    ax1.set_xticklabels([\"Control\", \"Opto\"])\n",
    "\n",
    "    width = 0.40\n",
    "\n",
    "    ax2.bar(np.arange(len(labels)) - width/2,np.squeeze(np.mean(coefs[:,:,0], axis = 0)), width, label = 'Control')\n",
    "    ax2.errorbar(np.arange(len(labels)) - width/2,np.squeeze(np.mean(coefs[:,:,0], axis = 0)),np.squeeze(np.std(coefs[:,:,0], axis = 0)), ls = '')\n",
    "\n",
    "    ax2.bar(np.arange(len(labels)) + width/2,np.squeeze(np.mean(coefs[:,:,1], axis = 0)), width, label = 'Opto')\n",
    "    ax2.errorbar(np.arange(len(labels)) + width/2,np.squeeze(np.mean(coefs[:,:,1], axis = 0)),np.squeeze(np.std(coefs[:,:,0], axis = 0)), ls = '')\n",
    "\n",
    "    ax2.set_title('Coefficient Weights')\n",
    "    ax2.set_xticks(np.arange(len(labels)))\n",
    "    ax2.set_xticklabels(labels)\n",
    "    ax2.tick_params(axis='x', labelrotation = 45)\n",
    "    # ax2.autoscale(tight=True)\n",
    "    ax2.legend()\n",
    "\n",
    "    # ax2.bar_label(nl, padding=3)\n",
    "    # ax2.bar_label(l, padding=3)\n",
    "\n",
    "    fig.suptitle(a, fontsize = 18)\n",
    "\n",
    "\n",
    "\n",
    "    plt.show()\n",
    "\n",
    "\n"
   ]
  },
  {
   "cell_type": "code",
   "execution_count": 177,
   "metadata": {},
   "outputs": [
    {
     "data": {
      "text/plain": [
       "array([[0.88322579, 0.89818092, 0.86963827, 0.8698141 ],\n",
       "       [0.74877162, 0.72932542, 0.7119485 , 0.71034247]])"
      ]
     },
     "execution_count": 177,
     "metadata": {},
     "output_type": "execute_result"
    }
   ],
   "source": [
    "scores\n",
    "gs.T"
   ]
  },
  {
   "cell_type": "code",
   "execution_count": 17,
   "metadata": {},
   "outputs": [
    {
     "data": {
      "text/html": [
       "<div>\n",
       "<style scoped>\n",
       "    .dataframe tbody tr th:only-of-type {\n",
       "        vertical-align: middle;\n",
       "    }\n",
       "\n",
       "    .dataframe tbody tr th {\n",
       "        vertical-align: top;\n",
       "    }\n",
       "\n",
       "    .dataframe thead th {\n",
       "        text-align: right;\n",
       "    }\n",
       "</style>\n",
       "<table border=\"1\" class=\"dataframe\">\n",
       "  <thead>\n",
       "    <tr style=\"text-align: right;\">\n",
       "      <th></th>\n",
       "      <th>0</th>\n",
       "      <th>1</th>\n",
       "      <th>2</th>\n",
       "      <th>3</th>\n",
       "      <th>4</th>\n",
       "      <th>5</th>\n",
       "      <th>6</th>\n",
       "      <th>7</th>\n",
       "      <th>8</th>\n",
       "    </tr>\n",
       "  </thead>\n",
       "  <tbody>\n",
       "    <tr>\n",
       "      <th>0</th>\n",
       "      <td>-0.000121</td>\n",
       "      <td>4.236057</td>\n",
       "      <td>0.186240</td>\n",
       "      <td>-0.082194</td>\n",
       "      <td>0.880026</td>\n",
       "      <td>0.643652</td>\n",
       "      <td>-0.252564</td>\n",
       "      <td>-0.042541</td>\n",
       "      <td>0.523950</td>\n",
       "    </tr>\n",
       "    <tr>\n",
       "      <th>1</th>\n",
       "      <td>0.000088</td>\n",
       "      <td>2.919957</td>\n",
       "      <td>0.392204</td>\n",
       "      <td>-0.080625</td>\n",
       "      <td>-0.382891</td>\n",
       "      <td>-0.391934</td>\n",
       "      <td>-0.403562</td>\n",
       "      <td>-0.141185</td>\n",
       "      <td>-0.097531</td>\n",
       "    </tr>\n",
       "    <tr>\n",
       "      <th>2</th>\n",
       "      <td>0.000070</td>\n",
       "      <td>4.229858</td>\n",
       "      <td>0.040909</td>\n",
       "      <td>-0.275509</td>\n",
       "      <td>0.645517</td>\n",
       "      <td>0.626072</td>\n",
       "      <td>-0.174494</td>\n",
       "      <td>-0.003887</td>\n",
       "      <td>3.814210</td>\n",
       "    </tr>\n",
       "    <tr>\n",
       "      <th>3</th>\n",
       "      <td>-0.000136</td>\n",
       "      <td>4.181554</td>\n",
       "      <td>-0.226416</td>\n",
       "      <td>-0.152634</td>\n",
       "      <td>-1.262088</td>\n",
       "      <td>-0.815797</td>\n",
       "      <td>-0.111497</td>\n",
       "      <td>0.152522</td>\n",
       "      <td>-0.124241</td>\n",
       "    </tr>\n",
       "  </tbody>\n",
       "</table>\n",
       "</div>"
      ],
      "text/plain": [
       "          0         1         2         3         4         5         6  \\\n",
       "0 -0.000121  4.236057  0.186240 -0.082194  0.880026  0.643652 -0.252564   \n",
       "1  0.000088  2.919957  0.392204 -0.080625 -0.382891 -0.391934 -0.403562   \n",
       "2  0.000070  4.229858  0.040909 -0.275509  0.645517  0.626072 -0.174494   \n",
       "3 -0.000136  4.181554 -0.226416 -0.152634 -1.262088 -0.815797 -0.111497   \n",
       "\n",
       "          7         8  \n",
       "0 -0.042541  0.523950  \n",
       "1 -0.141185 -0.097531  \n",
       "2 -0.003887  3.814210  \n",
       "3  0.152522 -0.124241  "
      ]
     },
     "execution_count": 17,
     "metadata": {},
     "output_type": "execute_result"
    }
   ],
   "source": [
    "tt"
   ]
  },
  {
   "cell_type": "code",
   "execution_count": 420,
   "metadata": {},
   "outputs": [
    {
     "data": {
      "text/plain": [
       "107      0\n",
       "117      0\n",
       "119      0\n",
       "121      0\n",
       "122      0\n",
       "        ..\n",
       "11913    1\n",
       "11914    0\n",
       "11916    0\n",
       "11918    0\n",
       "11922    0\n",
       "Name: Rightward, Length: 10476, dtype: int32"
      ]
     },
     "execution_count": 420,
     "metadata": {},
     "output_type": "execute_result"
    }
   ],
   "source": [
    "(~(y.astype(bool))).astype(int)"
   ]
  }
 ],
 "metadata": {
  "kernelspec": {
   "display_name": "base",
   "language": "python",
   "name": "python3"
  },
  "language_info": {
   "codemirror_mode": {
    "name": "ipython",
    "version": 3
   },
   "file_extension": ".py",
   "mimetype": "text/x-python",
   "name": "python",
   "nbconvert_exporter": "python",
   "pygments_lexer": "ipython3",
   "version": "3.8.3"
  },
  "orig_nbformat": 4,
  "vscode": {
   "interpreter": {
    "hash": "ad2bdc8ecc057115af97d19610ffacc2b4e99fae6737bb82f5d7fb13d2f2c186"
   }
  }
 },
 "nbformat": 4,
 "nbformat_minor": 2
}
