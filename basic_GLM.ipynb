{
 "cells": [
  {
   "cell_type": "code",
   "execution_count": 213,
   "metadata": {},
   "outputs": [],
   "source": [
    "# Function to take a folder path, load the behavioral and licking data. Clean it to a nice lil pandas df\n",
    "def load_beh_data(path, animal_id):\n",
    "\n",
    "    import os \n",
    "    import pandas as pd\n",
    "    import numpy as np\n",
    "\n",
    "    file_pandas = animal_id + \"_df.csv\"\n",
    "    if os.path.isfile(file_pandas):\n",
    "        beh_df = pd.read_csv(file_pandas)\n",
    "    else:\n",
    "    \n",
    "        file_data = 'analyze_animal_'+animal_id+'.mat'\n",
    "        data_path = os.path.join(path,file_data)\n",
    "\n",
    "        beh_data = import_matlab_file(data_path)\n",
    "        beh_df, ignore = pd_from_uneven_dict(beh_data['animal'])\n",
    "        beh_df = beh_df.rename(columns={\"lick_0\": \"RH\", \"lick_1\": \"LH\", \"lick_2\": \"RM\", \"lick_3\": \"LM\", \"lick_4\": \"NG\"})\n",
    "\n",
    "        boo_cols = [\"RH\", \"LH\", \"RM\", \"LM\", \"NG\", \"LED\"]\n",
    "        beh_df[boo_cols] = beh_df[boo_cols].astype(bool)\n",
    "\n",
    "\n",
    "        file_ttl = 'ttl_info_'+animal_id+'.mat'\n",
    "        ttl_path = os.path.join(path, file_ttl)\n",
    "        ttl_data = import_matlab_file(ttl_path)\n",
    "\n",
    "        beh_df['Spout_1']= np.mean(ttl_data['trial_info']['lick'][:,750:825,0],axis = 1)\n",
    "        beh_df['Spout_2'] = np.mean(ttl_data['trial_info']['lick'][:,750:825,1],axis = 1)\n",
    "\n",
    "\n",
    "        file_ttl2 = 'ttl_choices_'+animal_id+'.mat'\n",
    "        ttl_path2 = os.path.join(path, file_ttl2)\n",
    "        ttl_data2 = import_matlab_file(ttl_path2)\n",
    "        c = ttl_data2['trial_info']['choice'][:,:,750:1750]\n",
    "        beh_df['latency'] = determine_latency(beh_df['rxnTime'], c)\n",
    "\n",
    "        beh_df.to_csv(file_pandas, index= False)\n",
    "        \n",
    "\n",
    "    return beh_df"
   ]
  },
  {
   "cell_type": "code",
   "execution_count": 206,
   "metadata": {},
   "outputs": [],
   "source": [
    "# Function that infers the latency of a response from the lick rasters\n",
    "def determine_latency(rxn, c):\n",
    "    import numpy as np\n",
    "    rx = []\n",
    "    for a in range(c.shape[0]):\n",
    "        r = (np.argwhere(c[a,:,:]== 1))\n",
    "\n",
    "        if r.size == 0 and rxn[a] > 0:\n",
    "            rx.append(rxn[a]);\n",
    "        elif r.size == 0:\n",
    "            rx.append(np.nan)\n",
    "            #ch.append(np.nan)\n",
    "        else:\n",
    "            #ch.append(r[0][0])\n",
    "            rx.append(r[0][1])\n",
    "\n",
    "    return rx"
   ]
  },
  {
   "cell_type": "code",
   "execution_count": 207,
   "metadata": {},
   "outputs": [],
   "source": [
    "def import_matlab_file(file):\n",
    "    from scipy.io import loadmat\n",
    "    \n",
    "    mat_data = loadmat(file, struct_as_record = False, squeeze_me = True, mat_dtype = True, chars_as_strings = True, simplify_cells = True)\n",
    "    mat_data =  {k:v for k,v in mat_data.items() if '__' not in k};\n",
    "    \n",
    "    return mat_data"
   ]
  },
  {
   "cell_type": "code",
   "execution_count": 208,
   "metadata": {},
   "outputs": [],
   "source": [
    "# Reorganization of dictionaries into dataframes. Used to clean up my matlab structs into df with rows corresponding to trials\n",
    "def pd_from_uneven_dict(d):\n",
    "\n",
    "    import numpy as np\n",
    "    import pandas as pd\n",
    "    \n",
    "    shapes = [v.shape for v in d.values() if len(v.shape) == 1]\n",
    "    trials = max(shapes)[0]\n",
    "\n",
    "    single_dim = {k:v for k,v in d.items() if (len(v.shape) == 1)  & (trials == v.shape[0])};\n",
    "    df = pd.DataFrame(single_dim);\n",
    "\n",
    "    remainder = {};\n",
    "\n",
    "    for k,v in d.items():\n",
    "        \n",
    "        if len(v.shape)  ==  3:\n",
    "            split_data = np.dsplit(v, v.shape[2]);\n",
    "            for ind, dim in enumerate(split_data):\n",
    "                col_name = k + \"_\"+f'{ind}';\n",
    "                if dim.shape[0] == trials:\n",
    "                    df[col_name] = list(np.squeeze(dim))\n",
    "                else:\n",
    "                    df[col_name] = list(np.squeeze(dim.transpose))\n",
    "        elif len(v.shape) == 2:\n",
    "            if v.shape[1] == trials:\n",
    "                v = v.transpose()\n",
    "\n",
    "            if v.shape[1] < 10:\n",
    "                for i, j in enumerate(v.transpose()):\n",
    "                        col_name = k + \"_\" + f'{i}'\n",
    "                        \n",
    "                        df[col_name] = j\n",
    "            else:\n",
    "                col_name = k\n",
    "                df[col_name] = list(np.squeeze(v))\n",
    "                \n",
    "        elif (len(v.shape) == 1)  & (trials != v.shape[0]):\n",
    "            remainder[k] = v;\n",
    "\n",
    "        \n",
    "            \n",
    "    return df, remainder"
   ]
  },
  {
   "cell_type": "code",
   "execution_count": 209,
   "metadata": {},
   "outputs": [],
   "source": [
    "# function to take beh_df and processes the data into the form for modeling. Keep as a dataframe to \n",
    "# allow for easier subsampling of trials. Next steps: incorporate a function that allows for easy sampling\n",
    "# of trial history\n",
    "def clean_beh_data(b):\n",
    "    import numpy as np\n",
    "    import pandas as pd\n",
    "\n",
    "    \n",
    "    b2 = pd.DataFrame()\n",
    "    ns = np.array(np.append(1, np.diff(b['sessionNum'])), dtype = bool)\n",
    "\n",
    "    b2['Rightward'] = (b['RH'] | b['LM']).astype(int)\n",
    "    pr = np.concatenate(([0], b2['Rightward'][:-1].values));\n",
    "    pr[ns] = 0;\n",
    "    b2['Previous_rightward'] = pr;\n",
    "\n",
    "    b2['Correct'] = (b['RH'] | b['LH']).astype(int)\n",
    "    pc = np.concatenate(([0], b2['Correct'][:-1].values))  \n",
    "    pc[ns] = 0;\n",
    "    b2['Previous_correct'] = pc;\n",
    "\n",
    "    b2['Stimulus'] =np.log2(b['stimulus']/8)/2\n",
    "    b2['LED'] = b['LED'].astype(int);\n",
    "    b2['Target'] = b['target'].astype(int);\n",
    "    b2['Session'] = b['sessionNum'];\n",
    "\n",
    "   \n",
    "    b2['Latency'] = b['latency']/1000;\n",
    "    #b2['New_session']= ns;\n",
    "   \n",
    "    go = (b['RH'] | b['LM'] | b['RM'] | b['LH']).values\n",
    "    \n",
    "    b2 = b2.iloc[go,:]\n",
    "    \n",
    "    return b2"
   ]
  },
  {
   "cell_type": "code",
   "execution_count": 210,
   "metadata": {},
   "outputs": [],
   "source": [
    "def expand_history(d, back):\n",
    "    import numpy as np\n",
    "    d = np.expand_dims(d, axis = 1)\n",
    "\n",
    "    for _ in range(back):\n",
    "        add = np.r_[0, d[:-1, -1]]\n",
    "        d = np.c_[d, add]\n",
    "\n",
    "    return d\n"
   ]
  },
  {
   "cell_type": "code",
   "execution_count": 211,
   "metadata": {},
   "outputs": [
    {
     "ename": "IndexError",
     "evalue": "too many indices for array: array is 1-dimensional, but 2 were indexed",
     "output_type": "error",
     "traceback": [
      "\u001b[0;31m---------------------------------------------------------------------------\u001b[0m",
      "\u001b[0;31mIndexError\u001b[0m                                Traceback (most recent call last)",
      "\u001b[0;32m/var/folders/lf/k3tb8sld391_x17yyq9r60tm0000gn/T/ipykernel_76233/393513627.py\u001b[0m in \u001b[0;36m<module>\u001b[0;34m\u001b[0m\n\u001b[1;32m      1\u001b[0m \u001b[0;32mfrom\u001b[0m \u001b[0mmatplotlib\u001b[0m \u001b[0;32mimport\u001b[0m \u001b[0mpyplot\u001b[0m \u001b[0;32mas\u001b[0m \u001b[0mplt\u001b[0m\u001b[0;34m\u001b[0m\u001b[0;34m\u001b[0m\u001b[0m\n\u001b[0;32m----> 2\u001b[0;31m \u001b[0mplt\u001b[0m\u001b[0;34m.\u001b[0m\u001b[0mimshow\u001b[0m\u001b[0;34m(\u001b[0m\u001b[0md\u001b[0m\u001b[0;34m[\u001b[0m\u001b[0;34m:\u001b[0m\u001b[0;36m25\u001b[0m\u001b[0;34m,\u001b[0m \u001b[0;34m:\u001b[0m\u001b[0;34m]\u001b[0m\u001b[0;34m)\u001b[0m\u001b[0;34m\u001b[0m\u001b[0;34m\u001b[0m\u001b[0m\n\u001b[0m",
      "\u001b[0;31mIndexError\u001b[0m: too many indices for array: array is 1-dimensional, but 2 were indexed"
     ]
    }
   ],
   "source": [
    "\n",
    "from matplotlib import pyplot as plt\n",
    "plt.imshow(d[:25, :])"
   ]
  },
  {
   "cell_type": "code",
   "execution_count": 251,
   "metadata": {},
   "outputs": [],
   "source": [
    "import os\n",
    "path = os.getcwd();\n",
    "\n",
    "animal = 'opto_69'\n",
    "\n",
    "b = load_beh_data(path, animal)\n"
   ]
  },
  {
   "cell_type": "code",
   "execution_count": 252,
   "metadata": {},
   "outputs": [
    {
     "data": {
      "text/html": [
       "<div>\n",
       "<style scoped>\n",
       "    .dataframe tbody tr th:only-of-type {\n",
       "        vertical-align: middle;\n",
       "    }\n",
       "\n",
       "    .dataframe tbody tr th {\n",
       "        vertical-align: top;\n",
       "    }\n",
       "\n",
       "    .dataframe thead th {\n",
       "        text-align: right;\n",
       "    }\n",
       "</style>\n",
       "<table border=\"1\" class=\"dataframe\">\n",
       "  <thead>\n",
       "    <tr style=\"text-align: right;\">\n",
       "      <th></th>\n",
       "      <th>Rightward</th>\n",
       "      <th>Previous_rightward</th>\n",
       "      <th>Correct</th>\n",
       "      <th>Previous_correct</th>\n",
       "      <th>Stimulus</th>\n",
       "      <th>LED</th>\n",
       "      <th>Target</th>\n",
       "      <th>Session</th>\n",
       "      <th>Latency</th>\n",
       "    </tr>\n",
       "  </thead>\n",
       "  <tbody>\n",
       "    <tr>\n",
       "      <th>71</th>\n",
       "      <td>1</td>\n",
       "      <td>0</td>\n",
       "      <td>1</td>\n",
       "      <td>0</td>\n",
       "      <td>1.0</td>\n",
       "      <td>0</td>\n",
       "      <td>1</td>\n",
       "      <td>1.0</td>\n",
       "      <td>0.867</td>\n",
       "    </tr>\n",
       "    <tr>\n",
       "      <th>72</th>\n",
       "      <td>1</td>\n",
       "      <td>1</td>\n",
       "      <td>1</td>\n",
       "      <td>1</td>\n",
       "      <td>1.0</td>\n",
       "      <td>0</td>\n",
       "      <td>1</td>\n",
       "      <td>1.0</td>\n",
       "      <td>0.845</td>\n",
       "    </tr>\n",
       "    <tr>\n",
       "      <th>75</th>\n",
       "      <td>1</td>\n",
       "      <td>0</td>\n",
       "      <td>1</td>\n",
       "      <td>0</td>\n",
       "      <td>1.0</td>\n",
       "      <td>0</td>\n",
       "      <td>1</td>\n",
       "      <td>1.0</td>\n",
       "      <td>0.942</td>\n",
       "    </tr>\n",
       "    <tr>\n",
       "      <th>76</th>\n",
       "      <td>1</td>\n",
       "      <td>1</td>\n",
       "      <td>1</td>\n",
       "      <td>1</td>\n",
       "      <td>1.0</td>\n",
       "      <td>0</td>\n",
       "      <td>1</td>\n",
       "      <td>1.0</td>\n",
       "      <td>0.886</td>\n",
       "    </tr>\n",
       "    <tr>\n",
       "      <th>82</th>\n",
       "      <td>1</td>\n",
       "      <td>0</td>\n",
       "      <td>1</td>\n",
       "      <td>0</td>\n",
       "      <td>1.0</td>\n",
       "      <td>0</td>\n",
       "      <td>1</td>\n",
       "      <td>1.0</td>\n",
       "      <td>1.051</td>\n",
       "    </tr>\n",
       "  </tbody>\n",
       "</table>\n",
       "</div>"
      ],
      "text/plain": [
       "    Rightward  Previous_rightward  Correct  Previous_correct  Stimulus  LED  \\\n",
       "71          1                   0        1                 0       1.0    0   \n",
       "72          1                   1        1                 1       1.0    0   \n",
       "75          1                   0        1                 0       1.0    0   \n",
       "76          1                   1        1                 1       1.0    0   \n",
       "82          1                   0        1                 0       1.0    0   \n",
       "\n",
       "    Target  Session  Latency  \n",
       "71       1      1.0    0.867  \n",
       "72       1      1.0    0.845  \n",
       "75       1      1.0    0.942  \n",
       "76       1      1.0    0.886  \n",
       "82       1      1.0    1.051  "
      ]
     },
     "execution_count": 252,
     "metadata": {},
     "output_type": "execute_result"
    }
   ],
   "source": [
    "b2 = clean_beh_data(b)\n",
    "b2.head()"
   ]
  },
  {
   "cell_type": "code",
   "execution_count": 253,
   "metadata": {},
   "outputs": [
    {
     "data": {
      "text/plain": [
       "(9151,)"
      ]
     },
     "execution_count": 253,
     "metadata": {},
     "output_type": "execute_result"
    }
   ],
   "source": [
    "import numpy as np\n",
    "inputs = ['Previous_rightward', 'Previous_correct', 'Stimulus', 'Latency']\n",
    "dat = np.array(b2[inputs])\n",
    "\n",
    "d = np.array(b2['Previous_correct'])\n",
    "d.shape"
   ]
  },
  {
   "cell_type": "code",
   "execution_count": 254,
   "metadata": {},
   "outputs": [],
   "source": [
    "previous_choice = expand_history(np.array(b2['Previous_rightward']), 4)\n",
    "inputs = ['Previous_correct', 'Stimulus', 'Latency']\n",
    "others = np.array(b2[inputs])\n",
    "\n",
    "X = np.c_[np.ones((others.shape[0], 1)), others, previous_choice]\n",
    "y = b2['Rightward']\n",
    "\n",
    "X1 = X[b2['LED'].astype(bool),:]\n",
    "X2 = X[~b2['LED'].astype(bool),:]\n",
    "y1 = y[b2['LED'].astype(bool)]\n",
    "y2 = y[~b2['LED'].astype(bool)]"
   ]
  },
  {
   "cell_type": "code",
   "execution_count": 258,
   "metadata": {},
   "outputs": [],
   "source": [
    "from sklearn.model_selection import train_test_split\n",
    "X_train, X_test, y_train, y_test = train_test_split(X1, y1, test_size=0.33)\n"
   ]
  },
  {
   "cell_type": "code",
   "execution_count": 260,
   "metadata": {},
   "outputs": [],
   "source": [
    "from sklearn.linear_model import LogisticRegression\n",
    "logR = LogisticRegression();\n",
    "logR.fit(X_train, y_train)\n",
    "pred = logR.predict(X_test)"
   ]
  },
  {
   "cell_type": "code",
   "execution_count": 257,
   "metadata": {},
   "outputs": [
    {
     "data": {
      "text/plain": [
       "0.8194552529182879"
      ]
     },
     "execution_count": 257,
     "metadata": {},
     "output_type": "execute_result"
    },
    {
     "data": {
      "image/png": "[encoded data removed]",
      "text/plain": [
       "<Figure size 432x288 with 1 Axes>"
      ]
     },
     "metadata": {
      "needs_background": "light"
     },
     "output_type": "display_data"
    }
   ],
   "source": [
    "plt.bar([0,1,2,3,4,5,6,7,8],  logR.coef_[0])\n",
    "logR.score(X_test, y_test)\n",
    "# x2 no LED"
   ]
  },
  {
   "cell_type": "code",
   "execution_count": 261,
   "metadata": {},
   "outputs": [
    {
     "data": {
      "text/plain": [
       "0.7893569844789357"
      ]
     },
     "execution_count": 261,
     "metadata": {},
     "output_type": "execute_result"
    },
    {
     "data": {
      "image/png": "[encoded data removed]",
      "text/plain": [
       "<Figure size 432x288 with 1 Axes>"
      ]
     },
     "metadata": {
      "needs_background": "light"
     },
     "output_type": "display_data"
    }
   ],
   "source": [
    "plt.bar([0,1,2,3,4,5,6,7,8],  logR.coef_[0])\n",
    "logR.score(X_test, y_test)\n",
    "# x1 LED"
   ]
  },
  {
   "cell_type": "code",
   "execution_count": 144,
   "metadata": {},
   "outputs": [
    {
     "data": {
      "text/plain": [
       "array([[1.82581369e-05, 1.42439620e-01, 1.17917516e+00, 5.94713392e-01,\n",
       "        8.72454661e-01, 1.03058704e-01, 3.20234120e-01, 1.41689029e-01,\n",
       "        2.11926709e-01]])"
      ]
     },
     "execution_count": 144,
     "metadata": {},
     "output_type": "execute_result"
    }
   ],
   "source": [
    "logR.coef_"
   ]
  },
  {
   "cell_type": "code",
   "execution_count": 183,
   "metadata": {},
   "outputs": [
    {
     "data": {
      "text/plain": [
       "10799    0\n",
       "8138     0\n",
       "6116     1\n",
       "4144     0\n",
       "2569     1\n",
       "        ..\n",
       "4872     0\n",
       "6478     0\n",
       "7067     1\n",
       "3239     1\n",
       "8662     0\n",
       "Name: Rightward, Length: 982, dtype: int64"
      ]
     },
     "execution_count": 183,
     "metadata": {},
     "output_type": "execute_result"
    }
   ],
   "source": [
    "y_train"
   ]
  },
  {
   "cell_type": "code",
   "execution_count": null,
   "metadata": {},
   "outputs": [],
   "source": []
  }
 ],
 "metadata": {
  "kernelspec": {
   "display_name": "Python 3.9.7 ('base')",
   "language": "python",
   "name": "python3"
  },
  "language_info": {
   "codemirror_mode": {
    "name": "ipython",
    "version": 3
   },
   "file_extension": ".py",
   "mimetype": "text/x-python",
   "name": "python",
   "nbconvert_exporter": "python",
   "pygments_lexer": "ipython3",
   "version": "3.9.7"
  },
  "orig_nbformat": 4,
  "vscode": {
   "interpreter": {
    "hash": "40d3a090f54c6569ab1632332b64b2c03c39dcf918b08424e98f38b5ae0af88f"
   }
  }
 },
 "nbformat": 4,
 "nbformat_minor": 2
}
