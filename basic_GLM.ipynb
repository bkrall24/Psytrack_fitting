{
 "cells": [
  {
   "cell_type": "code",
   "execution_count": 1,
   "metadata": {},
   "outputs": [],
   "source": [
    "# Function to take a folder path, load the behavioral and licking data. Clean it to a nice lil pandas df\n",
    "def load_beh_data(path, animal_id):\n",
    "\n",
    "    import os \n",
    "    import pandas as pd\n",
    "    import numpy as np\n",
    "\n",
    "    file_pandas = animal_id + \"_df.csv\"\n",
    "    if os.path.isfile(file_pandas):\n",
    "        beh_df = pd.read_csv(file_pandas)\n",
    "    else:\n",
    "    \n",
    "        file_data = 'analyze_animal_'+animal_id+'.mat'\n",
    "        data_path = os.path.join(path,file_data)\n",
    "\n",
    "        beh_data = import_matlab_file(data_path)\n",
    "        beh_df, ignore = pd_from_uneven_dict(beh_data['animal'])\n",
    "        beh_df = beh_df.rename(columns={\"lick_0\": \"RH\", \"lick_1\": \"LH\", \"lick_2\": \"RM\", \"lick_3\": \"LM\", \"lick_4\": \"NG\"})\n",
    "\n",
    "        boo_cols = [\"RH\", \"LH\", \"RM\", \"LM\", \"NG\", \"LED\"]\n",
    "        beh_df[boo_cols] = beh_df[boo_cols].astype(bool)\n",
    "\n",
    "\n",
    "        file_ttl = 'ttl_info_'+animal_id+'.mat'\n",
    "        ttl_path = os.path.join(path, file_ttl)\n",
    "        ttl_data = import_matlab_file(ttl_path)\n",
    "\n",
    "        beh_df['Spout_1']= np.mean(ttl_data['trial_info']['lick'][:,750:825,0],axis = 1)\n",
    "        beh_df['Spout_2'] = np.mean(ttl_data['trial_info']['lick'][:,750:825,1],axis = 1)\n",
    "\n",
    "\n",
    "        file_ttl2 = 'ttl_choices_'+animal_id+'.mat'\n",
    "        ttl_path2 = os.path.join(path, file_ttl2)\n",
    "        ttl_data2 = import_matlab_file(ttl_path2)\n",
    "        c = ttl_data2['trial_info']['choice'][:,:,750:1750]\n",
    "        beh_df['latency'] = determine_latency(beh_df['rxnTime'], c)\n",
    "\n",
    "        beh_df.to_csv(file_pandas, index= False)\n",
    "        \n",
    "\n",
    "    return beh_df"
   ]
  },
  {
   "cell_type": "code",
   "execution_count": 2,
   "metadata": {},
   "outputs": [],
   "source": [
    "# Function that infers the latency of a response from the lick rasters\n",
    "def determine_latency(rxn, c):\n",
    "    import numpy as np\n",
    "    rx = []\n",
    "    for a in range(c.shape[0]):\n",
    "        r = (np.argwhere(c[a,:,:]== 1))\n",
    "\n",
    "        if r.size == 0 and rxn[a] > 0:\n",
    "            rx.append(rxn[a]);\n",
    "        elif r.size == 0:\n",
    "            rx.append(np.nan)\n",
    "            #ch.append(np.nan)\n",
    "        else:\n",
    "            #ch.append(r[0][0])\n",
    "            rx.append(r[0][1])\n",
    "\n",
    "    return rx"
   ]
  },
  {
   "cell_type": "code",
   "execution_count": 3,
   "metadata": {},
   "outputs": [],
   "source": [
    "def import_matlab_file(file):\n",
    "    from scipy.io import loadmat\n",
    "    \n",
    "    mat_data = loadmat(file, struct_as_record = False, squeeze_me = True, mat_dtype = True, chars_as_strings = True, simplify_cells = True)\n",
    "    mat_data =  {k:v for k,v in mat_data.items() if '__' not in k};\n",
    "    \n",
    "    return mat_data"
   ]
  },
  {
   "cell_type": "code",
   "execution_count": 4,
   "metadata": {},
   "outputs": [],
   "source": [
    "# Reorganization of dictionaries into dataframes. Used to clean up my matlab structs into df with rows corresponding to trials\n",
    "def pd_from_uneven_dict(d):\n",
    "\n",
    "    import numpy as np\n",
    "    import pandas as pd\n",
    "    \n",
    "    shapes = [v.shape for v in d.values() if len(v.shape) == 1]\n",
    "    trials = max(shapes)[0]\n",
    "\n",
    "    single_dim = {k:v for k,v in d.items() if (len(v.shape) == 1)  & (trials == v.shape[0])};\n",
    "    df = pd.DataFrame(single_dim);\n",
    "\n",
    "    remainder = {};\n",
    "\n",
    "    for k,v in d.items():\n",
    "        \n",
    "        if len(v.shape)  ==  3:\n",
    "            split_data = np.dsplit(v, v.shape[2]);\n",
    "            for ind, dim in enumerate(split_data):\n",
    "                col_name = k + \"_\"+f'{ind}';\n",
    "                if dim.shape[0] == trials:\n",
    "                    df[col_name] = list(np.squeeze(dim))\n",
    "                else:\n",
    "                    df[col_name] = list(np.squeeze(dim.transpose))\n",
    "        elif len(v.shape) == 2:\n",
    "            if v.shape[1] == trials:\n",
    "                v = v.transpose()\n",
    "\n",
    "            if v.shape[1] < 10:\n",
    "                for i, j in enumerate(v.transpose()):\n",
    "                        col_name = k + \"_\" + f'{i}'\n",
    "                        \n",
    "                        df[col_name] = j\n",
    "            else:\n",
    "                col_name = k\n",
    "                df[col_name] = list(np.squeeze(v))\n",
    "                \n",
    "        elif (len(v.shape) == 1)  & (trials != v.shape[0]):\n",
    "            remainder[k] = v;\n",
    "\n",
    "        \n",
    "            \n",
    "    return df, remainder"
   ]
  },
  {
   "cell_type": "code",
   "execution_count": 5,
   "metadata": {},
   "outputs": [],
   "source": [
    "# function to take beh_df and processes the data into the form for modeling. Keep as a dataframe to \n",
    "# allow for easier subsampling of trials. Next steps: incorporate a function that allows for easy sampling\n",
    "# of trial history\n",
    "def clean_beh_data(b):\n",
    "    import numpy as np\n",
    "    import pandas as pd\n",
    "\n",
    "    \n",
    "    b2 = pd.DataFrame()\n",
    "    ns = np.array(np.append(1, np.diff(b['sessionNum'])), dtype = bool)\n",
    "\n",
    "    b2['Rightward'] = (b['RH'] | b['LM']).astype(int)\n",
    "    pr = np.concatenate(([0], b2['Rightward'][:-1].values));\n",
    "    pr[ns] = 0;\n",
    "    b2['Previous_rightward'] = pr;\n",
    "\n",
    "    b2['Correct'] = (b['RH'] | b['LH']).astype(int)\n",
    "    pc = np.concatenate(([0], b2['Correct'][:-1].values))  \n",
    "    pc[ns] = 0;\n",
    "    b2['Previous_correct'] = pc;\n",
    "\n",
    "    b2['Stimulus'] =np.log2(b['stimulus']/8)/2\n",
    "    #b2['Stimulus'] =(1/b['stimulus'])\n",
    "    b2['LED'] = b['LED'].astype(int);\n",
    "    b2['Target'] = b['target'].astype(int);\n",
    "    b2['Session'] = b['sessionNum'];\n",
    "\n",
    "   \n",
    "    b2['Latency'] = np.log2((1/(b['latency'])*1000)/8)/2;\n",
    "    #b2['New_session']= ns;\n",
    "   \n",
    "    go = ((b['RH'] | b['LM'] | b['RM'] | b['LH']).values) & ((b['latency'] > 0).T).values\n",
    "    b2 = b2.iloc[go,:]\n",
    "    \n",
    "    return b2"
   ]
  },
  {
   "cell_type": "code",
   "execution_count": 6,
   "metadata": {},
   "outputs": [],
   "source": [
    "def expand_history(d, back):\n",
    "    import numpy as np\n",
    "    d = np.expand_dims(d, axis = 1)\n",
    "\n",
    "    for _ in range(back):\n",
    "        add = np.r_[0, d[:-1, -1]]\n",
    "        d = np.c_[d, add]\n",
    "\n",
    "    return d\n"
   ]
  },
  {
   "cell_type": "code",
   "execution_count": 210,
   "metadata": {},
   "outputs": [
    {
     "data": {
      "text/html": [
       "<div>\n",
       "<style scoped>\n",
       "    .dataframe tbody tr th:only-of-type {\n",
       "        vertical-align: middle;\n",
       "    }\n",
       "\n",
       "    .dataframe tbody tr th {\n",
       "        vertical-align: top;\n",
       "    }\n",
       "\n",
       "    .dataframe thead th {\n",
       "        text-align: right;\n",
       "    }\n",
       "</style>\n",
       "<table border=\"1\" class=\"dataframe\">\n",
       "  <thead>\n",
       "    <tr style=\"text-align: right;\">\n",
       "      <th></th>\n",
       "      <th>Rightward</th>\n",
       "      <th>Previous_rightward</th>\n",
       "      <th>Correct</th>\n",
       "      <th>Previous_correct</th>\n",
       "      <th>Stimulus</th>\n",
       "      <th>LED</th>\n",
       "      <th>Target</th>\n",
       "      <th>Session</th>\n",
       "      <th>Latency</th>\n",
       "    </tr>\n",
       "  </thead>\n",
       "  <tbody>\n",
       "    <tr>\n",
       "      <th>155</th>\n",
       "      <td>0</td>\n",
       "      <td>0</td>\n",
       "      <td>1</td>\n",
       "      <td>0</td>\n",
       "      <td>-1.0</td>\n",
       "      <td>0</td>\n",
       "      <td>0</td>\n",
       "      <td>1.0</td>\n",
       "      <td>-1.312401</td>\n",
       "    </tr>\n",
       "    <tr>\n",
       "      <th>157</th>\n",
       "      <td>0</td>\n",
       "      <td>0</td>\n",
       "      <td>1</td>\n",
       "      <td>0</td>\n",
       "      <td>1.0</td>\n",
       "      <td>0</td>\n",
       "      <td>0</td>\n",
       "      <td>1.0</td>\n",
       "      <td>-1.127901</td>\n",
       "    </tr>\n",
       "    <tr>\n",
       "      <th>158</th>\n",
       "      <td>0</td>\n",
       "      <td>0</td>\n",
       "      <td>1</td>\n",
       "      <td>1</td>\n",
       "      <td>-1.0</td>\n",
       "      <td>0</td>\n",
       "      <td>0</td>\n",
       "      <td>1.0</td>\n",
       "      <td>-0.599561</td>\n",
       "    </tr>\n",
       "    <tr>\n",
       "      <th>159</th>\n",
       "      <td>0</td>\n",
       "      <td>0</td>\n",
       "      <td>1</td>\n",
       "      <td>1</td>\n",
       "      <td>1.0</td>\n",
       "      <td>0</td>\n",
       "      <td>0</td>\n",
       "      <td>1.0</td>\n",
       "      <td>-1.456899</td>\n",
       "    </tr>\n",
       "    <tr>\n",
       "      <th>160</th>\n",
       "      <td>0</td>\n",
       "      <td>0</td>\n",
       "      <td>1</td>\n",
       "      <td>1</td>\n",
       "      <td>-1.0</td>\n",
       "      <td>0</td>\n",
       "      <td>0</td>\n",
       "      <td>1.0</td>\n",
       "      <td>-0.833605</td>\n",
       "    </tr>\n",
       "  </tbody>\n",
       "</table>\n",
       "</div>"
      ],
      "text/plain": [
       "     Rightward  Previous_rightward  Correct  Previous_correct  Stimulus  LED  \\\n",
       "155          0                   0        1                 0      -1.0    0   \n",
       "157          0                   0        1                 0       1.0    0   \n",
       "158          0                   0        1                 1      -1.0    0   \n",
       "159          0                   0        1                 1       1.0    0   \n",
       "160          0                   0        1                 1      -1.0    0   \n",
       "\n",
       "     Target  Session   Latency  \n",
       "155       0      1.0 -1.312401  \n",
       "157       0      1.0 -1.127901  \n",
       "158       0      1.0 -0.599561  \n",
       "159       0      1.0 -1.456899  \n",
       "160       0      1.0 -0.833605  "
      ]
     },
     "execution_count": 210,
     "metadata": {},
     "output_type": "execute_result"
    }
   ],
   "source": [
    "import os\n",
    "path = os.getcwd();\n",
    "\n",
    "animal = 'opto_207'\n",
    "\n",
    "#path = r\"C:\\Users\\natet\\Desktop\\Experimental_Data\\IT\\opto_204\"\n",
    "import numpy as np\n",
    "\n",
    "b = load_beh_data(path, animal)\n",
    "b2 = clean_beh_data(b)\n",
    "b2.head()"
   ]
  },
  {
   "cell_type": "code",
   "execution_count": 228,
   "metadata": {},
   "outputs": [],
   "source": [
    "\n",
    "#inputs = ['Previous_rightward', 'Previous_correct', 'Stimulus', 'Latency']\n",
    "#dat = np.array(b2[inputs])\n",
    "#d = np.array(b2['Previous_correct'])\n",
    "\n",
    "previous_choice = expand_history(np.array(b2['Previous_rightward']), 1)\n",
    "previous_reward = expand_history(np.array(b2['Previous_correct']),1)\n",
    "previous_stimulus = expand_history(np.array(b2['Stimulus']),2)\n",
    "#inputs = ['Previous_correct', 'Stimulus', 'Latency']\n",
    "latency = np.array(b2['Latency'])\n",
    "\n",
    "X = np.c_[np.ones((latency.shape[0], 1)), previous_stimulus, previous_choice, previous_reward, latency]\n",
    "y = b2['Rightward']\n",
    "labels = ['Bias', 'Stimulus', '1 Stim', '2 Stim', '1 Choice', '2 Choice', '1 Reward', '2 Reward', 'latency']"
   ]
  },
  {
   "cell_type": "code",
   "execution_count": 229,
   "metadata": {},
   "outputs": [],
   "source": [
    "X1 = X[b2['LED'].astype(bool) & b2['Stimulus'] != 0,:]\n",
    "X2 = X[~b2['LED'].astype(bool) & b2['Stimulus'] != 0,:]\n",
    "X3 = X[b2['Stimulus'] == 0,:]\n",
    "y1 = y[b2['LED'].astype(bool) & b2['Stimulus'] != 0]\n",
    "y2 = y[~b2['LED'].astype(bool) & b2['Stimulus'] != 0]\n",
    "y3 = y[ b2['Stimulus'] == 0]\n",
    "\n",
    "\n",
    "#X1 = X[b2['LED'].astype(bool) ,:]\n",
    "#X2 = X[~b2['LED'].astype(bool) ,:]\n",
    "#y1 = y[b2['LED'].astype(bool) ]\n",
    "#y2 = y[~b2['LED'].astype(bool) ]"
   ]
  },
  {
   "cell_type": "code",
   "execution_count": 230,
   "metadata": {},
   "outputs": [],
   "source": [
    "from sklearn.model_selection import train_test_split\n",
    "X1_train, X1_test, y1_train, y1_test = train_test_split(X1, y1, test_size=0.33)\n",
    "X2_train, X2_test, y2_train, y2_test = train_test_split(X2, y2, test_size=0.33)\n",
    "X3_train, X3_test, y3_train, y3_test = train_test_split(X3, y3, test_size=0.33)\n",
    "from sklearn.linear_model import LogisticRegressionCV\n",
    "clf1 = LogisticRegressionCV(cv=5, random_state=0).fit(X1_train, y1_train)\n",
    "clf2 = LogisticRegressionCV(cv=5, random_state=0).fit(X2_train, y2_train)\n",
    "clf3 = LogisticRegressionCV(cv=5, random_state=0).fit(X3_train, y3_train)\n",
    "\n"
   ]
  },
  {
   "cell_type": "code",
   "execution_count": 231,
   "metadata": {},
   "outputs": [
    {
     "name": "stdout",
     "output_type": "stream",
     "text": [
      "0.6352657004830918\n",
      "0.5978593272171254\n",
      "0.7284595300261096\n"
     ]
    }
   ],
   "source": [
    "print(clf1.score(X1_test,y1_test))\n",
    "print(clf2.score(X2_test,y2_test))\n",
    "print(clf3.score(X3_test,y3_test))"
   ]
  },
  {
   "cell_type": "code",
   "execution_count": 232,
   "metadata": {},
   "outputs": [
    {
     "data": {
      "text/plain": [
       "array([0, 1, 2, 3, 4, 5, 6, 7])"
      ]
     },
     "execution_count": 232,
     "metadata": {},
     "output_type": "execute_result"
    }
   ],
   "source": [
    "X1.shape\n",
    "np.arange(X.shape[1])"
   ]
  },
  {
   "cell_type": "code",
   "execution_count": 233,
   "metadata": {},
   "outputs": [
    {
     "data": {
      "text/plain": [
       "Text(0.5, 1.0, '8 Hz')"
      ]
     },
     "execution_count": 233,
     "metadata": {},
     "output_type": "execute_result"
    },
    {
     "data": {
      "image/png": "[encoded data removed]",
      "text/plain": [
       "<Figure size 432x288 with 1 Axes>"
      ]
     },
     "metadata": {
      "needs_background": "light"
     },
     "output_type": "display_data"
    },
    {
     "data": {
      "image/png": "[encoded data removed]",
      "text/plain": [
       "<Figure size 432x288 with 1 Axes>"
      ]
     },
     "metadata": {
      "needs_background": "light"
     },
     "output_type": "display_data"
    },
    {
     "data": {
      "image/png": "[encoded data removed]",
      "text/plain": [
       "<Figure size 432x288 with 1 Axes>"
      ]
     },
     "metadata": {
      "needs_background": "light"
     },
     "output_type": "display_data"
    }
   ],
   "source": [
    "import matplotlib.pyplot as plt\n",
    "x = np.arange(len(labels)) \n",
    "\n",
    "fig, ax = plt.subplots()\n",
    "ax.bar(x, clf1.coef_[0])\n",
    "plt.xticks(x,rotation = 45)\n",
    "ax.set_xticklabels(labels)\n",
    "plt.title('LED')\n",
    "\n",
    "clf1.score(X1_test, y1_test)\n",
    "\n",
    "fig, ax = plt.subplots()\n",
    "ax.bar(x, clf2.coef_[0])\n",
    "plt.xticks(x,rotation = 45)\n",
    "ax.set_xticklabels(labels)\n",
    "clf2.score(X2_test, y2_test)\n",
    "plt.title('No LED')\n",
    "\n",
    "fig, ax = plt.subplots()\n",
    "ax.bar(x, clf3.coef_[0])\n",
    "plt.xticks(x,rotation = 45)\n",
    "ax.set_xticklabels(labels)\n",
    "clf3.score(X3_test, y3_test)\n",
    "plt.title('8 Hz')\n",
    "#  LED"
   ]
  },
  {
   "cell_type": "code",
   "execution_count": 195,
   "metadata": {},
   "outputs": [
    {
     "data": {
      "text/plain": [
       "0.8132201334141904"
      ]
     },
     "execution_count": 195,
     "metadata": {},
     "output_type": "execute_result"
    },
    {
     "data": {
      "image/png": "[encoded data removed]",
      "text/plain": [
       "<Figure size 432x288 with 1 Axes>"
      ]
     },
     "metadata": {
      "needs_background": "light"
     },
     "output_type": "display_data"
    }
   ],
   "source": [
    "fig, ax = plt.subplots()\n",
    "ax.bar(x, clf2.coef_[0])\n",
    "plt.xticks(x,rotation = 45)\n",
    "ax.set_xticklabels(labels)\n",
    "clf2.score(X2_test, y2_test)\n",
    "# no LED"
   ]
  },
  {
   "cell_type": "code",
   "execution_count": 139,
   "metadata": {},
   "outputs": [
    {
     "data": {
      "text/plain": [
       "0.7893462469733656"
      ]
     },
     "execution_count": 139,
     "metadata": {},
     "output_type": "execute_result"
    },
    {
     "data": {
      "image/png": "[encoded data removed]",
      "text/plain": [
       "<Figure size 432x288 with 1 Axes>"
      ]
     },
     "metadata": {
      "needs_background": "light"
     },
     "output_type": "display_data"
    }
   ],
   "source": [
    "fig, ax = plt.subplots()\n",
    "ax.bar(x, clf3.coef_[0])\n",
    "plt.xticks(x,rotation = 45)\n",
    "ax.set_xticklabels(labels)\n",
    "clf3.score(X3_test, y3_test)"
   ]
  },
  {
   "cell_type": "code",
   "execution_count": 183,
   "metadata": {},
   "outputs": [
    {
     "data": {
      "text/plain": [
       "10799    0\n",
       "8138     0\n",
       "6116     1\n",
       "4144     0\n",
       "2569     1\n",
       "        ..\n",
       "4872     0\n",
       "6478     0\n",
       "7067     1\n",
       "3239     1\n",
       "8662     0\n",
       "Name: Rightward, Length: 982, dtype: int64"
      ]
     },
     "execution_count": 183,
     "metadata": {},
     "output_type": "execute_result"
    }
   ],
   "source": [
    "y_train"
   ]
  },
  {
   "cell_type": "code",
   "execution_count": 120,
   "metadata": {},
   "outputs": [
    {
     "ename": "AttributeError",
     "evalue": "module 'matplotlib' has no attribute '__version___'",
     "output_type": "error",
     "traceback": [
      "\u001b[0;31m---------------------------------------------------------------------------\u001b[0m",
      "\u001b[0;31mAttributeError\u001b[0m                            Traceback (most recent call last)",
      "\u001b[0;32m/var/folders/lf/k3tb8sld391_x17yyq9r60tm0000gn/T/ipykernel_65187/3420426700.py\u001b[0m in \u001b[0;36m<module>\u001b[0;34m\u001b[0m\n\u001b[1;32m      1\u001b[0m \u001b[0;32mimport\u001b[0m \u001b[0mmatplotlib\u001b[0m\u001b[0;34m\u001b[0m\u001b[0;34m\u001b[0m\u001b[0m\n\u001b[0;32m----> 2\u001b[0;31m \u001b[0mmatplotlib\u001b[0m\u001b[0;34m.\u001b[0m\u001b[0m__version___\u001b[0m\u001b[0;34m\u001b[0m\u001b[0;34m\u001b[0m\u001b[0m\n\u001b[0m",
      "\u001b[0;31mAttributeError\u001b[0m: module 'matplotlib' has no attribute '__version___'"
     ]
    }
   ],
   "source": [
    "\n"
   ]
  },
  {
   "attachments": {},
   "cell_type": "markdown",
   "metadata": {},
   "source": [
    "To do list:\n",
    "- decide on data input i.e. what stages of training to run analysis on\n",
    "- write code to iteratively fit each animal by walking through the directories\n",
    "- EVALUATE THE FITS - ensure the regression is actually fitting the data \n",
    "\n",
    "Tasks\n",
    "- function to generate the inputs to the model\n",
    "- function to split the data into groups of interest (i.e. LED, no LED, 8 Hz)\n",
    "- function to run the model, generate score, return coefficients\n",
    "- second function to run leave on out with each parameter with BIC to determine which weight is most important for the fit\n",
    "- function to "
   ]
  },
  {
   "cell_type": "markdown",
   "metadata": {},
   "source": []
  }
 ],
 "metadata": {
  "kernelspec": {
   "display_name": "base",
   "language": "python",
   "name": "python3"
  },
  "language_info": {
   "codemirror_mode": {
    "name": "ipython",
    "version": 3
   },
   "file_extension": ".py",
   "mimetype": "text/x-python",
   "name": "python",
   "nbconvert_exporter": "python",
   "pygments_lexer": "ipython3",
   "version": "3.9.7"
  },
  "orig_nbformat": 4,
  "vscode": {
   "interpreter": {
    "hash": "40d3a090f54c6569ab1632332b64b2c03c39dcf918b08424e98f38b5ae0af88f"
   }
  }
 },
 "nbformat": 4,
 "nbformat_minor": 2
}
