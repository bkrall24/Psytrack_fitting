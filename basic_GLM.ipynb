{
 "cells": [
  {
   "cell_type": "code",
   "execution_count": 44,
   "metadata": {},
   "outputs": [],
   "source": [
    "# Function to take a folder path, load the behavioral and licking data. Clean it to a nice lil pandas df\n",
    "def load_beh_data(path, animal_id):\n",
    "\n",
    "    import os \n",
    "    import pandas as pd\n",
    "    import numpy as np\n",
    "\n",
    "    file_pandas = animal_id + \"_df.csv\"\n",
    "    if os.path.isfile(file_pandas):\n",
    "        beh_df = pd.read_csv(file_pandas)\n",
    "    else:\n",
    "    \n",
    "        file_data = 'analyze_animal_'+animal_id+'.mat'\n",
    "        data_path = os.path.join(path,file_data)\n",
    "\n",
    "        beh_data = import_matlab_file(data_path)\n",
    "        beh_df, ignore = pd_from_uneven_dict(beh_data['animal'])\n",
    "        beh_df = beh_df.rename(columns={\"lick_0\": \"RH\", \"lick_1\": \"LH\", \"lick_2\": \"RM\", \"lick_3\": \"LM\", \"lick_4\": \"NG\"})\n",
    "\n",
    "        boo_cols = [\"RH\", \"LH\", \"RM\", \"LM\", \"NG\", \"LED\"]\n",
    "        beh_df[boo_cols] = beh_df[boo_cols].astype(bool)\n",
    "\n",
    "\n",
    "        file_ttl = 'ttl_info_'+animal_id+'.mat'\n",
    "        ttl_path = os.path.join(path, file_ttl)\n",
    "        ttl_data = import_matlab_file(ttl_path)\n",
    "\n",
    "        beh_df['Spout_1']= np.mean(ttl_data['trial_info']['lick'][:,750:825,0],axis = 1)\n",
    "        beh_df['Spout_2'] = np.mean(ttl_data['trial_info']['lick'][:,750:825,1],axis = 1)\n",
    "\n",
    "\n",
    "        file_ttl2 = 'ttl_choices_'+animal_id+'.mat'\n",
    "        ttl_path2 = os.path.join(path, file_ttl2)\n",
    "        ttl_data2 = import_matlab_file(ttl_path2)\n",
    "        c = ttl_data2['trial_info']['choice'][:,:,750:1750]\n",
    "        beh_df['latency'] = determine_latency(beh_df['rxnTime'], c)\n",
    "\n",
    "        beh_df.to_csv(file_pandas, index= False)\n",
    "        \n",
    "\n",
    "    return beh_df"
   ]
  },
  {
   "cell_type": "code",
   "execution_count": 45,
   "metadata": {},
   "outputs": [],
   "source": [
    "# Function that infers the latency of a response from the lick rasters\n",
    "def determine_latency(rxn, c):\n",
    "    import numpy as np\n",
    "    rx = []\n",
    "    for a in range(c.shape[0]):\n",
    "        r = (np.argwhere(c[a,:,:]== 1))\n",
    "\n",
    "        if r.size == 0 and rxn[a] > 0:\n",
    "            rx.append(rxn[a]);\n",
    "        elif r.size == 0:\n",
    "            rx.append(np.nan)\n",
    "            #ch.append(np.nan)\n",
    "        else:\n",
    "            #ch.append(r[0][0])\n",
    "            rx.append(r[0][1])\n",
    "\n",
    "    return rx"
   ]
  },
  {
   "cell_type": "code",
   "execution_count": 46,
   "metadata": {},
   "outputs": [],
   "source": [
    "def import_matlab_file(file):\n",
    "    from scipy.io import loadmat\n",
    "    \n",
    "    mat_data = loadmat(file, struct_as_record = False, squeeze_me = True, mat_dtype = True, chars_as_strings = True, simplify_cells = True)\n",
    "    mat_data =  {k:v for k,v in mat_data.items() if '__' not in k};\n",
    "    \n",
    "    return mat_data"
   ]
  },
  {
   "cell_type": "code",
   "execution_count": 47,
   "metadata": {},
   "outputs": [],
   "source": [
    "# Reorganization of dictionaries into dataframes. Used to clean up my matlab structs into df with rows corresponding to trials\n",
    "def pd_from_uneven_dict(d):\n",
    "\n",
    "    import numpy as np\n",
    "    import pandas as pd\n",
    "    \n",
    "    shapes = [v.shape for v in d.values() if len(v.shape) == 1]\n",
    "    trials = max(shapes)[0]\n",
    "\n",
    "    single_dim = {k:v for k,v in d.items() if (len(v.shape) == 1)  & (trials == v.shape[0])};\n",
    "    df = pd.DataFrame(single_dim);\n",
    "\n",
    "    remainder = {};\n",
    "\n",
    "    for k,v in d.items():\n",
    "        \n",
    "        if len(v.shape)  ==  3:\n",
    "            split_data = np.dsplit(v, v.shape[2]);\n",
    "            for ind, dim in enumerate(split_data):\n",
    "                col_name = k + \"_\"+f'{ind}';\n",
    "                if dim.shape[0] == trials:\n",
    "                    df[col_name] = list(np.squeeze(dim))\n",
    "                else:\n",
    "                    df[col_name] = list(np.squeeze(dim.transpose))\n",
    "        elif len(v.shape) == 2:\n",
    "            if v.shape[1] == trials:\n",
    "                v = v.transpose()\n",
    "\n",
    "            if v.shape[1] < 10:\n",
    "                for i, j in enumerate(v.transpose()):\n",
    "                        col_name = k + \"_\" + f'{i}'\n",
    "                        \n",
    "                        df[col_name] = j\n",
    "            else:\n",
    "                col_name = k\n",
    "                df[col_name] = list(np.squeeze(v))\n",
    "                \n",
    "        elif (len(v.shape) == 1)  & (trials != v.shape[0]):\n",
    "            remainder[k] = v;\n",
    "\n",
    "        \n",
    "            \n",
    "    return df, remainder"
   ]
  },
  {
   "cell_type": "code",
   "execution_count": 250,
   "metadata": {},
   "outputs": [],
   "source": [
    "# function to take beh_df and processes the data into the form for modeling. Keep as a dataframe to \n",
    "# allow for easier subsampling of trials. Next steps: incorporate a function that allows for easy sampling\n",
    "# of trial history\n",
    "def clean_beh_data(b):\n",
    "    import numpy as np\n",
    "    import pandas as pd\n",
    "\n",
    "    \n",
    "    b2 = pd.DataFrame()\n",
    "    ns = np.array(np.append(1, np.diff(b['sessionNum'])), dtype = bool)\n",
    "\n",
    "    b2['Rightward'] = (b['RH'] | b['LM']).astype(int)\n",
    "    pr = np.concatenate(([0], b2['Rightward'][:-1].values));\n",
    "    pr[ns] = 0;\n",
    "    b2['Previous_rightward'] = pr;\n",
    "\n",
    "    b2['Correct'] = (b['RH'] | b['LH']).astype(int)\n",
    "    pc = np.concatenate(([0], b2['Correct'][:-1].values))  \n",
    "    pc[ns] = 0;\n",
    "    b2['Previous_correct'] = pc;\n",
    "\n",
    "    b2['Stimulus'] =np.log2(b['stimulus']/8)/2\n",
    "    #b2['Stimulus'] =(1/b['stimulus'])\n",
    "    b2['LED'] = b['LED'].astype(int);\n",
    "    b2['Target'] = b['target'].astype(int);\n",
    "    b2['Session'] = b['sessionNum'];\n",
    "\n",
    "   \n",
    "    b2['Latency'] = np.log2((1/(b['latency'])*1000)/8)/2;\n",
    "    #b2['New_session']= ns;\n",
    "   \n",
    "    go = ((b['RH'] | b['LM'] | b['RM'] | b['LH']).values) & ((b['latency'] > 0).T).values\n",
    "    b2 = b2.iloc[go,:]\n",
    "    \n",
    "    return b2"
   ]
  },
  {
   "cell_type": "code",
   "execution_count": 251,
   "metadata": {},
   "outputs": [],
   "source": [
    "def expand_history(d, back):\n",
    "    import numpy as np\n",
    "    d = np.expand_dims(d, axis = 1)\n",
    "\n",
    "    for _ in range(back):\n",
    "        add = np.r_[0, d[:-1, -1]]\n",
    "        d = np.c_[d, add]\n",
    "\n",
    "    return d\n"
   ]
  },
  {
   "cell_type": "code",
   "execution_count": 302,
   "metadata": {},
   "outputs": [
    {
     "data": {
      "text/plain": [
       "3.0"
      ]
     },
     "execution_count": 302,
     "metadata": {},
     "output_type": "execute_result"
    }
   ],
   "source": [
    "import os\n",
    "path = os.getcwd();\n",
    "\n",
    "animal = 'opto_203'\n",
    "\n",
    "path = r\"C:\\Users\\natet\\Desktop\\Experimental_Data\\IT\\opto_204\"\n",
    "np.log2((1/125)*1000)\n"
   ]
  },
  {
   "cell_type": "code",
   "execution_count": 303,
   "metadata": {},
   "outputs": [
    {
     "data": {
      "text/plain": [
       "<matplotlib.axes._subplots.AxesSubplot at 0x202ec14c460>"
      ]
     },
     "execution_count": 303,
     "metadata": {},
     "output_type": "execute_result"
    },
    {
     "data": {
      "image/png": "[encoded data removed]",
      "text/plain": [
       "<Figure size 432x288 with 1 Axes>"
      ]
     },
     "metadata": {
      "needs_background": "light"
     },
     "output_type": "display_data"
    }
   ],
   "source": [
    "b = load_beh_data(path, animal)\n",
    "b['latency'].hist()"
   ]
  },
  {
   "cell_type": "code",
   "execution_count": 304,
   "metadata": {},
   "outputs": [
    {
     "data": {
      "text/plain": [
       "<matplotlib.axes._subplots.AxesSubplot at 0x202ec097f40>"
      ]
     },
     "execution_count": 304,
     "metadata": {},
     "output_type": "execute_result"
    },
    {
     "data": {
      "image/png": "[encoded data removed]",
      "text/plain": [
       "<Figure size 432x288 with 1 Axes>"
      ]
     },
     "metadata": {
      "needs_background": "light"
     },
     "output_type": "display_data"
    }
   ],
   "source": [
    "b2 = clean_beh_data(b)\n",
    "b2.head()\n",
    "\n",
    "\n",
    "b2['Latency'].hist()\n",
    "\n",
    "\n",
    "\n"
   ]
  },
  {
   "cell_type": "code",
   "execution_count": 305,
   "metadata": {},
   "outputs": [
    {
     "data": {
      "text/plain": [
       "(11323,)"
      ]
     },
     "execution_count": 305,
     "metadata": {},
     "output_type": "execute_result"
    }
   ],
   "source": [
    "import numpy as np\n",
    "inputs = ['Previous_rightward', 'Previous_correct', 'Stimulus', 'Latency']\n",
    "dat = np.array(b2[inputs])\n",
    "\n",
    "d = np.array(b2['Previous_correct'])\n",
    "d.shape"
   ]
  },
  {
   "cell_type": "code",
   "execution_count": 306,
   "metadata": {},
   "outputs": [],
   "source": [
    "previous_choice = expand_history(np.array(b2['Previous_rightward']), 4)\n",
    "inputs = ['Previous_correct', 'Stimulus', 'Latency']\n",
    "others = np.array(b2[inputs])\n",
    "\n",
    "X = np.c_[np.ones((others.shape[0], 1)), others, previous_choice]\n",
    "y = b2['Rightward']\n",
    "\n",
    "X1 = X[b2['LED'].astype(bool),:]\n",
    "X2 = X[~b2['LED'].astype(bool),:]\n",
    "y1 = y[b2['LED'].astype(bool)]\n",
    "y2 = y[~b2['LED'].astype(bool)]"
   ]
  },
  {
   "cell_type": "code",
   "execution_count": 310,
   "metadata": {},
   "outputs": [],
   "source": [
    "from sklearn.model_selection import train_test_split\n",
    "X_train, X_test, y_train, y_test = train_test_split(X2, y2, test_size=0.33)\n"
   ]
  },
  {
   "cell_type": "code",
   "execution_count": 311,
   "metadata": {},
   "outputs": [],
   "source": [
    "from sklearn.linear_model import LogisticRegression\n",
    "logR = LogisticRegression();\n",
    "logR.fit(X_train, y_train)\n",
    "pred = logR.predict(X_test)"
   ]
  },
  {
   "cell_type": "code",
   "execution_count": 312,
   "metadata": {},
   "outputs": [
    {
     "data": {
      "text/plain": [
       "0.83463827121829"
      ]
     },
     "execution_count": 312,
     "metadata": {},
     "output_type": "execute_result"
    },
    {
     "data": {
      "image/png": "[encoded data removed]",
      "text/plain": [
       "<Figure size 432x288 with 1 Axes>"
      ]
     },
     "metadata": {
      "needs_background": "light"
     },
     "output_type": "display_data"
    }
   ],
   "source": [
    "import matplotlib.pyplot as plt\n",
    "plt.bar([0,1,2,3,4,5,6,7,8],  logR.coef_[0])\n",
    "logR.score(X_test, y_test)\n",
    "# x2 no LED"
   ]
  },
  {
   "cell_type": "code",
   "execution_count": 309,
   "metadata": {},
   "outputs": [
    {
     "data": {
      "text/plain": [
       "0.8697247706422019"
      ]
     },
     "execution_count": 309,
     "metadata": {},
     "output_type": "execute_result"
    },
    {
     "data": {
      "image/png": "[encoded data removed]",
      "text/plain": [
       "<Figure size 432x288 with 1 Axes>"
      ]
     },
     "metadata": {
      "needs_background": "light"
     },
     "output_type": "display_data"
    }
   ],
   "source": [
    "plt.bar([0,1,2,3,4,5,6,7,8],  logR.coef_[0])\n",
    "logR.score(X_test, y_test)\n",
    "# x1 LED"
   ]
  },
  {
   "cell_type": "code",
   "execution_count": 313,
   "metadata": {},
   "outputs": [
    {
     "data": {
      "text/plain": [
       "array([[ 1.92200163e-04, -1.55485247e-01,  2.40196983e+00,\n",
       "        -3.21547751e-02,  9.04613917e-01,  4.18768076e-01,\n",
       "         3.45284500e-01,  1.51987425e-01,  3.49289873e-01]])"
      ]
     },
     "execution_count": 313,
     "metadata": {},
     "output_type": "execute_result"
    }
   ],
   "source": [
    "logR.coef_"
   ]
  },
  {
   "cell_type": "code",
   "execution_count": 183,
   "metadata": {},
   "outputs": [
    {
     "data": {
      "text/plain": [
       "10799    0\n",
       "8138     0\n",
       "6116     1\n",
       "4144     0\n",
       "2569     1\n",
       "        ..\n",
       "4872     0\n",
       "6478     0\n",
       "7067     1\n",
       "3239     1\n",
       "8662     0\n",
       "Name: Rightward, Length: 982, dtype: int64"
      ]
     },
     "execution_count": 183,
     "metadata": {},
     "output_type": "execute_result"
    }
   ],
   "source": [
    "y_train"
   ]
  },
  {
   "cell_type": "code",
   "execution_count": null,
   "metadata": {},
   "outputs": [],
   "source": []
  },
  {
   "attachments": {},
   "cell_type": "markdown",
   "metadata": {},
   "source": [
    "To do list:\n",
    "- decide on data input i.e. what stages of training to run analysis on\n",
    "- write code to iteratively fit each animal by walking through the directories\n",
    "- EVALUATE THE FITS - ensure the regression is actually fitting the data \n",
    "- generate "
   ]
  },
  {
   "cell_type": "markdown",
   "metadata": {},
   "source": []
  }
 ],
 "metadata": {
  "kernelspec": {
   "display_name": "base",
   "language": "python",
   "name": "python3"
  },
  "language_info": {
   "codemirror_mode": {
    "name": "ipython",
    "version": 3
   },
   "file_extension": ".py",
   "mimetype": "text/x-python",
   "name": "python",
   "nbconvert_exporter": "python",
   "pygments_lexer": "ipython3",
   "version": "3.8.3"
  },
  "orig_nbformat": 4,
  "vscode": {
   "interpreter": {
    "hash": "ad2bdc8ecc057115af97d19610ffacc2b4e99fae6737bb82f5d7fb13d2f2c186"
   }
  }
 },
 "nbformat": 4,
 "nbformat_minor": 2
}
