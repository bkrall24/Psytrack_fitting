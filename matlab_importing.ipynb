{
 "cells": [
  {
   "cell_type": "code",
   "execution_count": null,
   "metadata": {},
   "outputs": [],
   "source": [
    "# Easy import of saved matlab data to pull out just the saved variables\n",
    "def import_matlab_file(file):\n",
    "    from scipy.io import loadmat\n",
    "    \n",
    "    mat_data = loadmat(file, struct_as_record = False, squeeze_me = True, mat_dtype = True, chars_as_strings = True, simplify_cells = True)\n",
    "    mat_data =  {k:v for k,v in mat_data.items() if '__' not in k};\n",
    "    \n",
    "    return mat_data"
   ]
  },
  {
   "cell_type": "code",
   "execution_count": null,
   "metadata": {},
   "outputs": [],
   "source": [
    "# Reorganization of dictionaries into dataframes. Used to clean up my matlab structs into df with rows corresponding to trials\n",
    "def pd_from_uneven_dict(d):\n",
    "\n",
    "    import numpy as np\n",
    "    import pandas as pd\n",
    "    \n",
    "    shapes = [v.shape for v in d.values() if len(v.shape) == 1]\n",
    "    trials = max(shapes)[0]\n",
    "\n",
    "    single_dim = {k:v for k,v in d.items() if (len(v.shape) == 1)  & (trials == v.shape[0])};\n",
    "    df = pd.DataFrame(single_dim);\n",
    "\n",
    "    remainder = {};\n",
    "\n",
    "    for k,v in d.items():\n",
    "        \n",
    "        if len(v.shape)  ==  3:\n",
    "            split_data = np.dsplit(v, v.shape[2]);\n",
    "            for ind, dim in enumerate(split_data):\n",
    "                col_name = k + \"_\"+f'{ind}';\n",
    "                if dim.shape[0] == trials:\n",
    "                    df[col_name] = list(np.squeeze(dim))\n",
    "                else:\n",
    "                    df[col_name] = list(np.squeeze(dim.transpose))\n",
    "        elif len(v.shape) == 2:\n",
    "            if v.shape[1] == trials:\n",
    "                v = v.transpose()\n",
    "\n",
    "            if v.shape[1] < 10:\n",
    "                for i, j in enumerate(v.transpose()):\n",
    "                        col_name = k + \"_\" + f'{i}'\n",
    "                        \n",
    "                        df[col_name] = j\n",
    "            else:\n",
    "                col_name = k\n",
    "                df[col_name] = list(np.squeeze(v))\n",
    "                \n",
    "        elif (len(v.shape) == 1)  & (trials != v.shape[0]):\n",
    "            remainder[k] = v;\n",
    "\n",
    "        \n",
    "            \n",
    "    return df, remainder"
   ]
  }
 ],
 "metadata": {
  "kernelspec": {
   "display_name": "Python 3.9.7 ('base')",
   "language": "python",
   "name": "python3"
  },
  "language_info": {
   "name": "python",
   "version": "3.9.7"
  },
  "orig_nbformat": 4,
  "vscode": {
   "interpreter": {
    "hash": "40d3a090f54c6569ab1632332b64b2c03c39dcf918b08424e98f38b5ae0af88f"
   }
  }
 },
 "nbformat": 4,
 "nbformat_minor": 2
}
