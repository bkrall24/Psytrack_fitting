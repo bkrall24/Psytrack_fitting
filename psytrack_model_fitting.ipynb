{
 "cells": [
  {
   "cell_type": "code",
   "execution_count": null,
   "metadata": {},
   "outputs": [],
   "source": [
    "import os\n",
    "import numpy as np\n",
    "import pandas as pd \n",
    "import psytrack as psy\n",
    "import matplotlib.pyplot as plt\n",
    "\n",
    "home_path = os.getcwd()\n",
    "animal_id = 'c_129'\n",
    "b = load_beh_data(home_path, animal_id)\n",
    "b2 = clean_beh_data(b)\n",
    "dat = preprocess_psytrack(b2, animal_id)"
   ]
  },
  {
   "cell_type": "code",
   "execution_count": null,
   "metadata": {},
   "outputs": [],
   "source": [
    "weights = {k: 1 for k in dat['inputs']}\n",
    "weights['bias'] = 1\n",
    "\n",
    "k = np.sum([weights[i] for i in weights.keys()])\n",
    "hyper = {'sigInit': 2**4., 'sigma': [2**4.]*k, 'sigDay': 2**4.};\n",
    "optList = ['sigma', 'sigDay'];"
   ]
  },
  {
   "cell_type": "code",
   "execution_count": null,
   "metadata": {},
   "outputs": [],
   "source": [
    "\n",
    "\n",
    "hyp, full_model, wMode, hess_info = psy.hyperOpt(dat, hyper, weights, optList, showOpt = 0)\n",
    " \n",
    "trials = len(dat['y'])\n",
    "model_evd = (-2 * full_model) + (len(optList) * np.log(trials));"
   ]
  },
  {
   "cell_type": "code",
   "execution_count": null,
   "metadata": {},
   "outputs": [],
   "source": [
    "\n",
    "\n",
    "plt.plot(wMode.T);\n",
    "plt.show()\n",
    "sorted(weights.keys())"
   ]
  }
 ],
 "metadata": {
  "kernelspec": {
   "display_name": "Python 3.8.3 ('base')",
   "language": "python",
   "name": "python3"
  },
  "language_info": {
   "name": "python",
   "version": "3.8.3"
  },
  "orig_nbformat": 4,
  "vscode": {
   "interpreter": {
    "hash": "ad2bdc8ecc057115af97d19610ffacc2b4e99fae6737bb82f5d7fb13d2f2c186"
   }
  }
 },
 "nbformat": 4,
 "nbformat_minor": 2
}
